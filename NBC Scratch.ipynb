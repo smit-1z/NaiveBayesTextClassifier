{
 "cells": [
  {
   "cell_type": "code",
   "execution_count": 1,
   "id": "9042eb52",
   "metadata": {},
   "outputs": [],
   "source": [
    "import os\n",
    "import numpy as np\n",
    "import pandas as pd\n",
    "import matplotlib.pyplot as plt\n",
    "import seaborn as sns"
   ]
  },
  {
   "cell_type": "markdown",
   "id": "bf7731d2",
   "metadata": {},
   "source": [
    "Merging two datasets into one master dataset. "
   ]
  },
  {
   "cell_type": "code",
   "execution_count": 2,
   "id": "93aba6cb",
   "metadata": {},
   "outputs": [],
   "source": [
    "df1 = pd.read_csv('train_data.csv')\n",
    "df2 = pd.read_csv('test_data.csv')\n",
    "df = pd.concat([df1, df2])"
   ]
  },
  {
   "cell_type": "code",
   "execution_count": 3,
   "id": "74d729ce",
   "metadata": {},
   "outputs": [
    {
     "data": {
      "text/html": [
       "<div>\n",
       "<style scoped>\n",
       "    .dataframe tbody tr th:only-of-type {\n",
       "        vertical-align: middle;\n",
       "    }\n",
       "\n",
       "    .dataframe tbody tr th {\n",
       "        vertical-align: top;\n",
       "    }\n",
       "\n",
       "    .dataframe thead th {\n",
       "        text-align: right;\n",
       "    }\n",
       "</style>\n",
       "<table border=\"1\" class=\"dataframe\">\n",
       "  <thead>\n",
       "    <tr style=\"text-align: right;\">\n",
       "      <th></th>\n",
       "      <th>Unnamed: 0</th>\n",
       "      <th>Sentence_id</th>\n",
       "      <th>New_Sentence</th>\n",
       "      <th>Type</th>\n",
       "    </tr>\n",
       "  </thead>\n",
       "  <tbody>\n",
       "    <tr>\n",
       "      <th>0</th>\n",
       "      <td>0</td>\n",
       "      <td>GERRES15609</td>\n",
       "      <td>Author and/or Review architecture/design and o...</td>\n",
       "      <td>Responsibility</td>\n",
       "    </tr>\n",
       "    <tr>\n",
       "      <th>1</th>\n",
       "      <td>1</td>\n",
       "      <td>PHERES15784</td>\n",
       "      <td>Should be able to develop custom dynamic shape...</td>\n",
       "      <td>Responsibility</td>\n",
       "    </tr>\n",
       "    <tr>\n",
       "      <th>2</th>\n",
       "      <td>2</td>\n",
       "      <td>GERREQ10457</td>\n",
       "      <td>Experience in working crosslly with a  larger ...</td>\n",
       "      <td>Requirement</td>\n",
       "    </tr>\n",
       "    <tr>\n",
       "      <th>3</th>\n",
       "      <td>3</td>\n",
       "      <td>GERSKL27235</td>\n",
       "      <td>Previous business experience, including but no...</td>\n",
       "      <td>Skill</td>\n",
       "    </tr>\n",
       "    <tr>\n",
       "      <th>4</th>\n",
       "      <td>4</td>\n",
       "      <td>HONSSK18415</td>\n",
       "      <td>Delivering fast and right the first  time.</td>\n",
       "      <td>SoftSkill</td>\n",
       "    </tr>\n",
       "    <tr>\n",
       "      <th>5</th>\n",
       "      <td>5</td>\n",
       "      <td>INDRES9494</td>\n",
       "      <td>Track  department expenses and capital budget .</td>\n",
       "      <td>Responsibility</td>\n",
       "    </tr>\n",
       "    <tr>\n",
       "      <th>6</th>\n",
       "      <td>6</td>\n",
       "      <td>HONRES51852</td>\n",
       "      <td>Meet  performance metrics.</td>\n",
       "      <td>Responsibility</td>\n",
       "    </tr>\n",
       "    <tr>\n",
       "      <th>7</th>\n",
       "      <td>7</td>\n",
       "      <td>UAEREQ34683</td>\n",
       "      <td>YOU MUST HAVEBachelors degree  in Engineering.</td>\n",
       "      <td>Requirement</td>\n",
       "    </tr>\n",
       "    <tr>\n",
       "      <th>8</th>\n",
       "      <td>8</td>\n",
       "      <td>UAEREQ4612</td>\n",
       "      <td>After COVID-19: Ability to travel to manufactu...</td>\n",
       "      <td>Requirement</td>\n",
       "    </tr>\n",
       "    <tr>\n",
       "      <th>9</th>\n",
       "      <td>9</td>\n",
       "      <td>INDEDU42721</td>\n",
       "      <td>Six Sigma qualification to  at least Green Bel...</td>\n",
       "      <td>Education</td>\n",
       "    </tr>\n",
       "  </tbody>\n",
       "</table>\n",
       "</div>"
      ],
      "text/plain": [
       "   Unnamed: 0  Sentence_id                                       New_Sentence  \\\n",
       "0           0  GERRES15609  Author and/or Review architecture/design and o...   \n",
       "1           1  PHERES15784  Should be able to develop custom dynamic shape...   \n",
       "2           2  GERREQ10457  Experience in working crosslly with a  larger ...   \n",
       "3           3  GERSKL27235  Previous business experience, including but no...   \n",
       "4           4  HONSSK18415         Delivering fast and right the first  time.   \n",
       "5           5   INDRES9494    Track  department expenses and capital budget .   \n",
       "6           6  HONRES51852                         Meet  performance metrics.   \n",
       "7           7  UAEREQ34683     YOU MUST HAVEBachelors degree  in Engineering.   \n",
       "8           8   UAEREQ4612  After COVID-19: Ability to travel to manufactu...   \n",
       "9           9  INDEDU42721  Six Sigma qualification to  at least Green Bel...   \n",
       "\n",
       "             Type  \n",
       "0  Responsibility  \n",
       "1  Responsibility  \n",
       "2     Requirement  \n",
       "3           Skill  \n",
       "4       SoftSkill  \n",
       "5  Responsibility  \n",
       "6  Responsibility  \n",
       "7     Requirement  \n",
       "8     Requirement  \n",
       "9       Education  "
      ]
     },
     "execution_count": 3,
     "metadata": {},
     "output_type": "execute_result"
    }
   ],
   "source": [
    "df.head(10)"
   ]
  },
  {
   "cell_type": "code",
   "execution_count": 4,
   "id": "46b5bb8d",
   "metadata": {},
   "outputs": [
    {
     "data": {
      "text/html": [
       "<div>\n",
       "<style scoped>\n",
       "    .dataframe tbody tr th:only-of-type {\n",
       "        vertical-align: middle;\n",
       "    }\n",
       "\n",
       "    .dataframe tbody tr th {\n",
       "        vertical-align: top;\n",
       "    }\n",
       "\n",
       "    .dataframe thead th {\n",
       "        text-align: right;\n",
       "    }\n",
       "</style>\n",
       "<table border=\"1\" class=\"dataframe\">\n",
       "  <thead>\n",
       "    <tr style=\"text-align: right;\">\n",
       "      <th></th>\n",
       "      <th>Unnamed: 0</th>\n",
       "    </tr>\n",
       "  </thead>\n",
       "  <tbody>\n",
       "    <tr>\n",
       "      <th>count</th>\n",
       "      <td>75144.000000</td>\n",
       "    </tr>\n",
       "    <tr>\n",
       "      <th>mean</th>\n",
       "      <td>25548.340001</td>\n",
       "    </tr>\n",
       "    <tr>\n",
       "      <th>std</th>\n",
       "      <td>18055.461497</td>\n",
       "    </tr>\n",
       "    <tr>\n",
       "      <th>min</th>\n",
       "      <td>0.000000</td>\n",
       "    </tr>\n",
       "    <tr>\n",
       "      <th>25%</th>\n",
       "      <td>9392.750000</td>\n",
       "    </tr>\n",
       "    <tr>\n",
       "      <th>50%</th>\n",
       "      <td>22542.500000</td>\n",
       "    </tr>\n",
       "    <tr>\n",
       "      <th>75%</th>\n",
       "      <td>41328.250000</td>\n",
       "    </tr>\n",
       "    <tr>\n",
       "      <th>max</th>\n",
       "      <td>60114.000000</td>\n",
       "    </tr>\n",
       "  </tbody>\n",
       "</table>\n",
       "</div>"
      ],
      "text/plain": [
       "         Unnamed: 0\n",
       "count  75144.000000\n",
       "mean   25548.340001\n",
       "std    18055.461497\n",
       "min        0.000000\n",
       "25%     9392.750000\n",
       "50%    22542.500000\n",
       "75%    41328.250000\n",
       "max    60114.000000"
      ]
     },
     "execution_count": 4,
     "metadata": {},
     "output_type": "execute_result"
    }
   ],
   "source": [
    "df.describe()"
   ]
  },
  {
   "cell_type": "markdown",
   "id": "a9f8573e",
   "metadata": {},
   "source": [
    "Splitting into train, test, development. "
   ]
  },
  {
   "cell_type": "code",
   "execution_count": 5,
   "id": "4ac5f007",
   "metadata": {},
   "outputs": [
    {
     "data": {
      "text/plain": [
       "Unnamed: 0          0\n",
       "Sentence_id         0\n",
       "New_Sentence     1394\n",
       "Type            15029\n",
       "dtype: int64"
      ]
     },
     "execution_count": 5,
     "metadata": {},
     "output_type": "execute_result"
    }
   ],
   "source": [
    "df.isna().sum()"
   ]
  },
  {
   "cell_type": "code",
   "execution_count": 6,
   "id": "97952f64",
   "metadata": {},
   "outputs": [
    {
     "data": {
      "text/plain": [
       "Text(0, 0.5, 'Count')"
      ]
     },
     "execution_count": 6,
     "metadata": {},
     "output_type": "execute_result"
    },
    {
     "data": {
      "image/png": "[encoded data removed]",
      "text/plain": [
       "<Figure size 864x576 with 1 Axes>"
      ]
     },
     "metadata": {
      "needs_background": "light"
     },
     "output_type": "display_data"
    }
   ],
   "source": [
    "plt.figure(figsize=(12,8))\n",
    "count = df.Type.value_counts()\n",
    "sns.barplot(x=count.index, y=count)\n",
    "plt.xlabel('Category')\n",
    "plt.ylabel('Count')"
   ]
  },
  {
   "cell_type": "markdown",
   "id": "b2770d3b",
   "metadata": {},
   "source": [
    "Splitting data into train validation test."
   ]
  },
  {
   "cell_type": "code",
   "execution_count": 7,
   "id": "ca74da88",
   "metadata": {},
   "outputs": [],
   "source": [
    "train, validate, test = np.split(df.sample(frac=1), [int(.6*len(df)), int(.8*len(df))])"
   ]
  },
  {
   "cell_type": "code",
   "execution_count": 8,
   "id": "51785b66",
   "metadata": {},
   "outputs": [
    {
     "name": "stdout",
     "output_type": "stream",
     "text": [
      "The length of train data is :  45086 \n",
      "The length of validate data is : 15029 \n",
      "The length of test data is :  15029\n"
     ]
    }
   ],
   "source": [
    "print(\"The length of train data is : \",len(train), \"\\nThe length of validate data is :\",len(validate),\"\\nThe length of test data is : \",len(test))"
   ]
  },
  {
   "cell_type": "code",
   "execution_count": 9,
   "id": "11aca473",
   "metadata": {},
   "outputs": [
    {
     "data": {
      "text/plain": [
       "Responsibility    9322\n",
       "Requirement       8495\n",
       "SoftSkill         5773\n",
       "Experience        5494\n",
       "Skill             4204\n",
       "Education         2720\n",
       "Name: Type, dtype: int64"
      ]
     },
     "execution_count": 9,
     "metadata": {},
     "output_type": "execute_result"
    }
   ],
   "source": [
    "train['Type'].value_counts()"
   ]
  },
  {
   "cell_type": "code",
   "execution_count": 10,
   "id": "0117be80",
   "metadata": {},
   "outputs": [
    {
     "data": {
      "text/plain": [
       "Text(0, 0.5, 'Count')"
      ]
     },
     "execution_count": 10,
     "metadata": {},
     "output_type": "execute_result"
    },
    {
     "data": {
      "image/png": "[encoded data removed]",
      "text/plain": [
       "<Figure size 864x576 with 1 Axes>"
      ]
     },
     "metadata": {
      "needs_background": "light"
     },
     "output_type": "display_data"
    }
   ],
   "source": [
    "plt.figure(figsize=(12,8))\n",
    "count = train.Type.value_counts()\n",
    "sns.barplot(x=count.index, y=count)\n",
    "plt.xlabel('Category')\n",
    "plt.ylabel('Count')"
   ]
  },
  {
   "cell_type": "markdown",
   "id": "6240dc64",
   "metadata": {},
   "source": [
    "Counting the number of times, each word has appeared throughout the dataset by creating a dictionary for frequency count of words in the dataset."
   ]
  },
  {
   "cell_type": "code",
   "execution_count": 11,
   "id": "9663e70c",
   "metadata": {},
   "outputs": [],
   "source": [
    "import nltk\n",
    "from nltk.corpus import stopwords\n",
    "sw_nltk = stopwords.words('english')"
   ]
  },
  {
   "cell_type": "markdown",
   "id": "2db6d1a0",
   "metadata": {},
   "source": [
    "REF https://towardsdatascience.com/text-pre-processing-stop-words-removal-using-different-libraries-f20bac19929a"
   ]
  },
  {
   "cell_type": "code",
   "execution_count": 12,
   "id": "89748713",
   "metadata": {},
   "outputs": [
    {
     "name": "stdout",
     "output_type": "stream",
     "text": [
      "3291\n"
     ]
    }
   ],
   "source": [
    "def word_counts(data_set) -> list:\n",
    "    words_in_tuple = dict()\n",
    "    text = data_set['New_Sentence']\n",
    "    text = text.to_string()\n",
    "    text = text.strip()\n",
    "    text = text.lower()\n",
    "    \n",
    "    #words = [word for word in text.split(' ') if word not in sw_nltk]\n",
    "    words = text.split(' ')\n",
    "    #print(len(words))\n",
    "    \n",
    "    for word in words:\n",
    "        if word == ' ' or word.isnumeric() == True:\n",
    "            continue\n",
    "        if word in words_in_tuple:\n",
    "              words_in_tuple[word] = words_in_tuple[word] + 1\n",
    "        else:\n",
    "              words_in_tuple[word] = 1  \n",
    "    for key in list(words_in_tuple.keys()):  ## creates a list of all keys\n",
    "      if words_in_tuple[key] < 5:\n",
    "        del words_in_tuple[key] \n",
    "       \n",
    "    return (words_in_tuple)\n",
    "vocab = word_counts(train)\n",
    "print(len(vocab))"
   ]
  },
  {
   "cell_type": "code",
   "execution_count": 13,
   "id": "9858f8e7",
   "metadata": {},
   "outputs": [
    {
     "name": "stdout",
     "output_type": "stream",
     "text": [
      "             Responsibility  Requirement  Skill  SoftSkill  Education  \\\n",
      "design                924.0        404.0  315.0      158.0       93.0   \n",
      "tech                   28.0         11.0    7.0        7.0       99.0   \n",
      "quality               633.0        151.0   86.0       71.0       27.0   \n",
      "development          1028.0        604.0  357.0      121.0       81.0   \n",
      "other                 515.0        225.0  149.0       84.0      124.0   \n",
      "...                     ...          ...    ...        ...        ...   \n",
      "jaar                    0.0          0.0    0.0        0.0        0.0   \n",
      "heavy                   0.0          0.0    0.0        0.0        0.0   \n",
      "ado                     0.0          0.0    0.0        0.0        0.0   \n",
      "poste                   0.0          0.0    0.0        0.0        0.0   \n",
      "semi                    0.0          0.0    0.0        0.0        0.0   \n",
      "\n",
      "             Experience  NaN  \n",
      "design            479.0  0.0  \n",
      "tech               41.0  0.0  \n",
      "quality           161.0  0.0  \n",
      "development       939.0  0.0  \n",
      "other             121.0  0.0  \n",
      "...                 ...  ...  \n",
      "jaar                6.0  0.0  \n",
      "heavy               7.0  0.0  \n",
      "ado                 6.0  0.0  \n",
      "poste               6.0  0.0  \n",
      "semi                6.0  0.0  \n",
      "\n",
      "[3910 rows x 7 columns]\n"
     ]
    }
   ],
   "source": [
    "#Conditional count of the words for every label \n",
    "# Refrenece blog : https://taherparatha.wordpress.com/portfolio/classifying-news-articles-using-naive-bayes-classifier-from-scratch/\n",
    "import re\n",
    "Types = df['Type'].unique()\n",
    "def conditional_count_values(dataset,label):  \n",
    "  word_count = {}\n",
    "  for typ in Types:\n",
    "    word_dict = {}\n",
    "    data = df[df[label] == typ]['New_Sentence']\n",
    "    for row in data:\n",
    "      words = list(set(re.split(\"[^a-zA-Z]\",str(row))))\n",
    "      for word in words:\n",
    "        word = word.lower()\n",
    "        if word in word_dict:\n",
    "          word_dict[word] = word_dict[word]+1\n",
    "        else:\n",
    "          word_dict[word] = 1\n",
    "    for word, count in dict(word_dict).items():\n",
    "      if (len(word)<3) or (count<=5):\n",
    "        word_dict.pop(word)\n",
    "    word_count[typ] = word_dict\n",
    "  \n",
    "  return pd.DataFrame(word_count).fillna(0)\n",
    "\n",
    "temp = conditional_count_values(train,\"Type\")\n",
    "print(temp)"
   ]
  },
  {
   "cell_type": "code",
   "execution_count": 14,
   "id": "24e3fe1d",
   "metadata": {},
   "outputs": [],
   "source": [
    "#returns the probability of the word with total number of docs.\n",
    "def probability_of_word_in_all_documents(dataset,word_given,smoothing):\n",
    "  return((word_counts(dataset)[word_given] + smoothing )/(len(dataset) + (len(dataset['Type'].unique()) * smoothing)))"
   ]
  },
  {
   "cell_type": "code",
   "execution_count": 15,
   "id": "8cde20b2",
   "metadata": {},
   "outputs": [],
   "source": [
    "#conditional probability value\n",
    "def conditional_probability(dataset,word,category,smoothing):\n",
    "  conditional_value_dataframe = conditional_count_values(train,'Type')\n",
    "  probability_value = (conditional_value_dataframe.loc[word,category])*smoothing / ((conditional_value_dataframe[category].sum()) + (smoothing * len(conditional_value_dataframe[category])))\n",
    "  return probability_value"
   ]
  },
  {
   "cell_type": "code",
   "execution_count": 16,
   "id": "488db312",
   "metadata": {},
   "outputs": [],
   "source": [
    "def count_probability_class(category_set):\n",
    "  result_probabilty = train.groupby('Type').size().div(len(train)) #count()['category']/len(category)\n",
    "  return(result_probabilty)"
   ]
  },
  {
   "cell_type": "code",
   "execution_count": 17,
   "id": "ed56b57f",
   "metadata": {},
   "outputs": [
    {
     "data": {
      "image/png": "[encoded data removed]",
      "text/plain": [
       "<Figure size 1008x576 with 1 Axes>"
      ]
     },
     "metadata": {
      "needs_background": "light"
     },
     "output_type": "display_data"
    }
   ],
   "source": [
    "result_probabilty = train.groupby('Type').size().div(len(train)) #count()['category']/len(category)\n",
    "plt.figure(figsize=(14,8))\n",
    "sns.barplot(x=result_probabilty.index, y=result_probabilty)\n",
    "plt.xlabel('Category')\n",
    "plt.ylabel('Probabilities')\n",
    "plt.show()"
   ]
  },
  {
   "cell_type": "code",
   "execution_count": 24,
   "id": "57a4828f",
   "metadata": {},
   "outputs": [],
   "source": [
    "def nb_probability(word,data,category,smoothing):\n",
    "  final_prob = conditional_probability(data,word,category,smoothing) * count_probability_class(train)\n",
    "  print(final_prob[category])\n",
    "  return final_prob[category]"
   ]
  },
  {
   "cell_type": "markdown",
   "id": "f7d60ee1",
   "metadata": {},
   "source": [
    "# TRAINING THE DATASET."
   ]
  },
  {
   "cell_type": "code",
   "execution_count": 25,
   "id": "ebf3ab4c",
   "metadata": {},
   "outputs": [
    {
     "data": {
      "text/html": [
       "<div>\n",
       "<style scoped>\n",
       "    .dataframe tbody tr th:only-of-type {\n",
       "        vertical-align: middle;\n",
       "    }\n",
       "\n",
       "    .dataframe tbody tr th {\n",
       "        vertical-align: top;\n",
       "    }\n",
       "\n",
       "    .dataframe thead th {\n",
       "        text-align: right;\n",
       "    }\n",
       "</style>\n",
       "<table border=\"1\" class=\"dataframe\">\n",
       "  <thead>\n",
       "    <tr style=\"text-align: right;\">\n",
       "      <th></th>\n",
       "      <th>Responsibility</th>\n",
       "      <th>Requirement</th>\n",
       "      <th>Skill</th>\n",
       "      <th>SoftSkill</th>\n",
       "      <th>Education</th>\n",
       "      <th>Experience</th>\n",
       "      <th>NaN</th>\n",
       "    </tr>\n",
       "  </thead>\n",
       "  <tbody>\n",
       "    <tr>\n",
       "      <th>design</th>\n",
       "      <td>924.0</td>\n",
       "      <td>404.0</td>\n",
       "      <td>315.0</td>\n",
       "      <td>158.0</td>\n",
       "      <td>93.0</td>\n",
       "      <td>479.0</td>\n",
       "      <td>0.0</td>\n",
       "    </tr>\n",
       "    <tr>\n",
       "      <th>tech</th>\n",
       "      <td>28.0</td>\n",
       "      <td>11.0</td>\n",
       "      <td>7.0</td>\n",
       "      <td>7.0</td>\n",
       "      <td>99.0</td>\n",
       "      <td>41.0</td>\n",
       "      <td>0.0</td>\n",
       "    </tr>\n",
       "    <tr>\n",
       "      <th>quality</th>\n",
       "      <td>633.0</td>\n",
       "      <td>151.0</td>\n",
       "      <td>86.0</td>\n",
       "      <td>71.0</td>\n",
       "      <td>27.0</td>\n",
       "      <td>161.0</td>\n",
       "      <td>0.0</td>\n",
       "    </tr>\n",
       "    <tr>\n",
       "      <th>development</th>\n",
       "      <td>1028.0</td>\n",
       "      <td>604.0</td>\n",
       "      <td>357.0</td>\n",
       "      <td>121.0</td>\n",
       "      <td>81.0</td>\n",
       "      <td>939.0</td>\n",
       "      <td>0.0</td>\n",
       "    </tr>\n",
       "    <tr>\n",
       "      <th>other</th>\n",
       "      <td>515.0</td>\n",
       "      <td>225.0</td>\n",
       "      <td>149.0</td>\n",
       "      <td>84.0</td>\n",
       "      <td>124.0</td>\n",
       "      <td>121.0</td>\n",
       "      <td>0.0</td>\n",
       "    </tr>\n",
       "    <tr>\n",
       "      <th>...</th>\n",
       "      <td>...</td>\n",
       "      <td>...</td>\n",
       "      <td>...</td>\n",
       "      <td>...</td>\n",
       "      <td>...</td>\n",
       "      <td>...</td>\n",
       "      <td>...</td>\n",
       "    </tr>\n",
       "    <tr>\n",
       "      <th>jaar</th>\n",
       "      <td>0.0</td>\n",
       "      <td>0.0</td>\n",
       "      <td>0.0</td>\n",
       "      <td>0.0</td>\n",
       "      <td>0.0</td>\n",
       "      <td>6.0</td>\n",
       "      <td>0.0</td>\n",
       "    </tr>\n",
       "    <tr>\n",
       "      <th>heavy</th>\n",
       "      <td>0.0</td>\n",
       "      <td>0.0</td>\n",
       "      <td>0.0</td>\n",
       "      <td>0.0</td>\n",
       "      <td>0.0</td>\n",
       "      <td>7.0</td>\n",
       "      <td>0.0</td>\n",
       "    </tr>\n",
       "    <tr>\n",
       "      <th>ado</th>\n",
       "      <td>0.0</td>\n",
       "      <td>0.0</td>\n",
       "      <td>0.0</td>\n",
       "      <td>0.0</td>\n",
       "      <td>0.0</td>\n",
       "      <td>6.0</td>\n",
       "      <td>0.0</td>\n",
       "    </tr>\n",
       "    <tr>\n",
       "      <th>poste</th>\n",
       "      <td>0.0</td>\n",
       "      <td>0.0</td>\n",
       "      <td>0.0</td>\n",
       "      <td>0.0</td>\n",
       "      <td>0.0</td>\n",
       "      <td>6.0</td>\n",
       "      <td>0.0</td>\n",
       "    </tr>\n",
       "    <tr>\n",
       "      <th>semi</th>\n",
       "      <td>0.0</td>\n",
       "      <td>0.0</td>\n",
       "      <td>0.0</td>\n",
       "      <td>0.0</td>\n",
       "      <td>0.0</td>\n",
       "      <td>6.0</td>\n",
       "      <td>0.0</td>\n",
       "    </tr>\n",
       "  </tbody>\n",
       "</table>\n",
       "<p>3910 rows × 7 columns</p>\n",
       "</div>"
      ],
      "text/plain": [
       "             Responsibility  Requirement  Skill  SoftSkill  Education  \\\n",
       "design                924.0        404.0  315.0      158.0       93.0   \n",
       "tech                   28.0         11.0    7.0        7.0       99.0   \n",
       "quality               633.0        151.0   86.0       71.0       27.0   \n",
       "development          1028.0        604.0  357.0      121.0       81.0   \n",
       "other                 515.0        225.0  149.0       84.0      124.0   \n",
       "...                     ...          ...    ...        ...        ...   \n",
       "jaar                    0.0          0.0    0.0        0.0        0.0   \n",
       "heavy                   0.0          0.0    0.0        0.0        0.0   \n",
       "ado                     0.0          0.0    0.0        0.0        0.0   \n",
       "poste                   0.0          0.0    0.0        0.0        0.0   \n",
       "semi                    0.0          0.0    0.0        0.0        0.0   \n",
       "\n",
       "             Experience  NaN  \n",
       "design            479.0  0.0  \n",
       "tech               41.0  0.0  \n",
       "quality           161.0  0.0  \n",
       "development       939.0  0.0  \n",
       "other             121.0  0.0  \n",
       "...                 ...  ...  \n",
       "jaar                6.0  0.0  \n",
       "heavy               7.0  0.0  \n",
       "ado                 6.0  0.0  \n",
       "poste               6.0  0.0  \n",
       "semi                6.0  0.0  \n",
       "\n",
       "[3910 rows x 7 columns]"
      ]
     },
     "execution_count": 25,
     "metadata": {},
     "output_type": "execute_result"
    }
   ],
   "source": [
    "vocab_train = word_counts(train)\n",
    "cond_words_train = conditional_count_values(train,'Type')\n",
    "cond_words_train.dropna()"
   ]
  },
  {
   "cell_type": "markdown",
   "id": "d06f582c",
   "metadata": {},
   "source": [
    "Finding the probability of the word “teams“."
   ]
  },
  {
   "cell_type": "code",
   "execution_count": 26,
   "id": "ba6e87df",
   "metadata": {},
   "outputs": [
    {
     "data": {
      "text/plain": [
       "0.00505621715122081"
      ]
     },
     "execution_count": 26,
     "metadata": {},
     "output_type": "execute_result"
    }
   ],
   "source": [
    "probability_of_word_in_all_documents(train,\"teams\",1)  "
   ]
  },
  {
   "cell_type": "markdown",
   "id": "9d5fc049",
   "metadata": {},
   "source": [
    "Finding the probability of the word “teams“ with different values of lapase smoothing parameter. "
   ]
  },
  {
   "cell_type": "code",
   "execution_count": 27,
   "id": "5d1f4db0",
   "metadata": {},
   "outputs": [
    {
     "name": "stdout",
     "output_type": "stream",
     "text": [
      "When smoothing factor = 1 :  0.0035428953175737463\n",
      "When smoothing factor = 0.1 :  0.00036125069793411504\n",
      "When smoothing factor = 0.5 :  0.0017906168356728513\n"
     ]
    }
   ],
   "source": [
    "print(\"When smoothing factor = 1 : \",conditional_probability(train,\"teams\",'Responsibility',1))\n",
    "print(\"When smoothing factor = 0.1 : \",conditional_probability(train,\"teams\",'Responsibility',0.1))\n",
    "print(\"When smoothing factor = 0.5 : \",conditional_probability(train,\"teams\",'Responsibility',0.5))"
   ]
  },
  {
   "cell_type": "markdown",
   "id": "f2e51881",
   "metadata": {},
   "source": [
    "Calculating the Naive Bayes probability of the word “the” across every category\n",
    "\n"
   ]
  },
  {
   "cell_type": "code",
   "execution_count": 30,
   "id": "a610b986",
   "metadata": {},
   "outputs": [
    {
     "name": "stdout",
     "output_type": "stream",
     "text": [
      "7.469234365749502e-05\n",
      "7.469234365749502e-05\n",
      "2.193571898814953e-05\n",
      "2.193571898814953e-05\n"
     ]
    },
    {
     "ename": "KeyError",
     "evalue": "nan",
     "output_type": "error",
     "traceback": [
      "\u001b[0;31m---------------------------------------------------------------------------\u001b[0m",
      "\u001b[0;31mKeyError\u001b[0m                                  Traceback (most recent call last)",
      "File \u001b[0;32m~/opt/anaconda3/lib/python3.9/site-packages/pandas/core/indexes/base.py:3621\u001b[0m, in \u001b[0;36mIndex.get_loc\u001b[0;34m(self, key, method, tolerance)\u001b[0m\n\u001b[1;32m   3620\u001b[0m \u001b[38;5;28;01mtry\u001b[39;00m:\n\u001b[0;32m-> 3621\u001b[0m     \u001b[38;5;28;01mreturn\u001b[39;00m \u001b[38;5;28;43mself\u001b[39;49m\u001b[38;5;241;43m.\u001b[39;49m\u001b[43m_engine\u001b[49m\u001b[38;5;241;43m.\u001b[39;49m\u001b[43mget_loc\u001b[49m\u001b[43m(\u001b[49m\u001b[43mcasted_key\u001b[49m\u001b[43m)\u001b[49m\n\u001b[1;32m   3622\u001b[0m \u001b[38;5;28;01mexcept\u001b[39;00m \u001b[38;5;167;01mKeyError\u001b[39;00m \u001b[38;5;28;01mas\u001b[39;00m err:\n",
      "File \u001b[0;32m~/opt/anaconda3/lib/python3.9/site-packages/pandas/_libs/index.pyx:136\u001b[0m, in \u001b[0;36mpandas._libs.index.IndexEngine.get_loc\u001b[0;34m()\u001b[0m\n",
      "File \u001b[0;32m~/opt/anaconda3/lib/python3.9/site-packages/pandas/_libs/index.pyx:163\u001b[0m, in \u001b[0;36mpandas._libs.index.IndexEngine.get_loc\u001b[0;34m()\u001b[0m\n",
      "File \u001b[0;32mpandas/_libs/hashtable_class_helper.pxi:5198\u001b[0m, in \u001b[0;36mpandas._libs.hashtable.PyObjectHashTable.get_item\u001b[0;34m()\u001b[0m\n",
      "File \u001b[0;32mpandas/_libs/hashtable_class_helper.pxi:5206\u001b[0m, in \u001b[0;36mpandas._libs.hashtable.PyObjectHashTable.get_item\u001b[0;34m()\u001b[0m\n",
      "\u001b[0;31mKeyError\u001b[0m: nan",
      "\nThe above exception was the direct cause of the following exception:\n",
      "\u001b[0;31mKeyError\u001b[0m                                  Traceback (most recent call last)",
      "Input \u001b[0;32mIn [30]\u001b[0m, in \u001b[0;36m<cell line: 2>\u001b[0;34m()\u001b[0m\n\u001b[1;32m      1\u001b[0m class_train_probability \u001b[38;5;241m=\u001b[39m count_probability_class(train)\n\u001b[1;32m      2\u001b[0m \u001b[38;5;28;01mfor\u001b[39;00m i \u001b[38;5;129;01min\u001b[39;00m train[\u001b[38;5;124m'\u001b[39m\u001b[38;5;124mType\u001b[39m\u001b[38;5;124m'\u001b[39m]\u001b[38;5;241m.\u001b[39munique():\n\u001b[0;32m----> 3\u001b[0m   \u001b[38;5;28mprint\u001b[39m(\u001b[43mnb_probability\u001b[49m\u001b[43m(\u001b[49m\u001b[38;5;124;43m\"\u001b[39;49m\u001b[38;5;124;43mteams\u001b[39;49m\u001b[38;5;124;43m\"\u001b[39;49m\u001b[43m,\u001b[49m\u001b[43mtrain\u001b[49m\u001b[43m,\u001b[49m\u001b[43mi\u001b[49m\u001b[43m,\u001b[49m\u001b[38;5;241;43m0.1\u001b[39;49m\u001b[43m)\u001b[49m)\n",
      "Input \u001b[0;32mIn [24]\u001b[0m, in \u001b[0;36mnb_probability\u001b[0;34m(word, data, category, smoothing)\u001b[0m\n\u001b[1;32m      1\u001b[0m \u001b[38;5;28;01mdef\u001b[39;00m \u001b[38;5;21mnb_probability\u001b[39m(word,data,category,smoothing):\n\u001b[1;32m      2\u001b[0m   final_prob \u001b[38;5;241m=\u001b[39m conditional_probability(data,word,category,smoothing) \u001b[38;5;241m*\u001b[39m count_probability_class(train)\n\u001b[0;32m----> 3\u001b[0m   \u001b[38;5;28mprint\u001b[39m(\u001b[43mfinal_prob\u001b[49m\u001b[43m[\u001b[49m\u001b[43mcategory\u001b[49m\u001b[43m]\u001b[49m)\n\u001b[1;32m      4\u001b[0m   \u001b[38;5;28;01mreturn\u001b[39;00m final_prob[category]\n",
      "File \u001b[0;32m~/opt/anaconda3/lib/python3.9/site-packages/pandas/core/series.py:958\u001b[0m, in \u001b[0;36mSeries.__getitem__\u001b[0;34m(self, key)\u001b[0m\n\u001b[1;32m    955\u001b[0m     \u001b[38;5;28;01mreturn\u001b[39;00m \u001b[38;5;28mself\u001b[39m\u001b[38;5;241m.\u001b[39m_values[key]\n\u001b[1;32m    957\u001b[0m \u001b[38;5;28;01melif\u001b[39;00m key_is_scalar:\n\u001b[0;32m--> 958\u001b[0m     \u001b[38;5;28;01mreturn\u001b[39;00m \u001b[38;5;28;43mself\u001b[39;49m\u001b[38;5;241;43m.\u001b[39;49m\u001b[43m_get_value\u001b[49m\u001b[43m(\u001b[49m\u001b[43mkey\u001b[49m\u001b[43m)\u001b[49m\n\u001b[1;32m    960\u001b[0m \u001b[38;5;28;01mif\u001b[39;00m is_hashable(key):\n\u001b[1;32m    961\u001b[0m     \u001b[38;5;66;03m# Otherwise index.get_value will raise InvalidIndexError\u001b[39;00m\n\u001b[1;32m    962\u001b[0m     \u001b[38;5;28;01mtry\u001b[39;00m:\n\u001b[1;32m    963\u001b[0m         \u001b[38;5;66;03m# For labels that don't resolve as scalars like tuples and frozensets\u001b[39;00m\n",
      "File \u001b[0;32m~/opt/anaconda3/lib/python3.9/site-packages/pandas/core/series.py:1069\u001b[0m, in \u001b[0;36mSeries._get_value\u001b[0;34m(self, label, takeable)\u001b[0m\n\u001b[1;32m   1066\u001b[0m     \u001b[38;5;28;01mreturn\u001b[39;00m \u001b[38;5;28mself\u001b[39m\u001b[38;5;241m.\u001b[39m_values[label]\n\u001b[1;32m   1068\u001b[0m \u001b[38;5;66;03m# Similar to Index.get_value, but we do not fall back to positional\u001b[39;00m\n\u001b[0;32m-> 1069\u001b[0m loc \u001b[38;5;241m=\u001b[39m \u001b[38;5;28;43mself\u001b[39;49m\u001b[38;5;241;43m.\u001b[39;49m\u001b[43mindex\u001b[49m\u001b[38;5;241;43m.\u001b[39;49m\u001b[43mget_loc\u001b[49m\u001b[43m(\u001b[49m\u001b[43mlabel\u001b[49m\u001b[43m)\u001b[49m\n\u001b[1;32m   1070\u001b[0m \u001b[38;5;28;01mreturn\u001b[39;00m \u001b[38;5;28mself\u001b[39m\u001b[38;5;241m.\u001b[39mindex\u001b[38;5;241m.\u001b[39m_get_values_for_loc(\u001b[38;5;28mself\u001b[39m, loc, label)\n",
      "File \u001b[0;32m~/opt/anaconda3/lib/python3.9/site-packages/pandas/core/indexes/base.py:3623\u001b[0m, in \u001b[0;36mIndex.get_loc\u001b[0;34m(self, key, method, tolerance)\u001b[0m\n\u001b[1;32m   3621\u001b[0m     \u001b[38;5;28;01mreturn\u001b[39;00m \u001b[38;5;28mself\u001b[39m\u001b[38;5;241m.\u001b[39m_engine\u001b[38;5;241m.\u001b[39mget_loc(casted_key)\n\u001b[1;32m   3622\u001b[0m \u001b[38;5;28;01mexcept\u001b[39;00m \u001b[38;5;167;01mKeyError\u001b[39;00m \u001b[38;5;28;01mas\u001b[39;00m err:\n\u001b[0;32m-> 3623\u001b[0m     \u001b[38;5;28;01mraise\u001b[39;00m \u001b[38;5;167;01mKeyError\u001b[39;00m(key) \u001b[38;5;28;01mfrom\u001b[39;00m \u001b[38;5;21;01merr\u001b[39;00m\n\u001b[1;32m   3624\u001b[0m \u001b[38;5;28;01mexcept\u001b[39;00m \u001b[38;5;167;01mTypeError\u001b[39;00m:\n\u001b[1;32m   3625\u001b[0m     \u001b[38;5;66;03m# If we have a listlike key, _check_indexing_error will raise\u001b[39;00m\n\u001b[1;32m   3626\u001b[0m     \u001b[38;5;66;03m#  InvalidIndexError. Otherwise we fall through and re-raise\u001b[39;00m\n\u001b[1;32m   3627\u001b[0m     \u001b[38;5;66;03m#  the TypeError.\u001b[39;00m\n\u001b[1;32m   3628\u001b[0m     \u001b[38;5;28mself\u001b[39m\u001b[38;5;241m.\u001b[39m_check_indexing_error(key)\n",
      "\u001b[0;31mKeyError\u001b[0m: nan"
     ]
    }
   ],
   "source": [
    "class_train_probability = count_probability_class(train)\n",
    "for i in train['Type'].unique():\n",
    "  print(nb_probability(\"teams\",train,i,0.1))"
   ]
  }
 ],
 "metadata": {
  "kernelspec": {
   "display_name": "Python 3 (ipykernel)",
   "language": "python",
   "name": "python3"
  },
  "language_info": {
   "codemirror_mode": {
    "name": "ipython",
    "version": 3
   },
   "file_extension": ".py",
   "mimetype": "text/x-python",
   "name": "python",
   "nbconvert_exporter": "python",
   "pygments_lexer": "ipython3",
   "version": "3.9.12"
  }
 },
 "nbformat": 4,
 "nbformat_minor": 5
}
