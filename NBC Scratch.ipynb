{
 "cells": [
  {
   "cell_type": "code",
   "execution_count": 46,
   "id": "9042eb52",
   "metadata": {},
   "outputs": [],
   "source": [
    "import os\n",
    "import numpy as np\n",
    "import pandas as pd\n",
    "import matplotlib.pyplot as plt\n",
    "import seaborn as sns\n",
    "import nltk\n",
    "from nltk.corpus import stopwords"
   ]
  },
  {
   "cell_type": "markdown",
   "id": "bf7731d2",
   "metadata": {},
   "source": [
    "Merging two datasets into one master dataset. "
   ]
  },
  {
   "cell_type": "code",
   "execution_count": 47,
   "id": "93aba6cb",
   "metadata": {},
   "outputs": [],
   "source": [
    "df1 = pd.read_csv('train_data.csv') \n",
    "df2 = pd.read_csv('test_data.csv')\n",
    "df = pd.concat([df1, df2])\n",
    "\n",
    "#entire cell is my contribution"
   ]
  },
  {
   "cell_type": "code",
   "execution_count": 48,
   "id": "74d729ce",
   "metadata": {},
   "outputs": [
    {
     "data": {
      "text/html": [
       "<div>\n",
       "<style scoped>\n",
       "    .dataframe tbody tr th:only-of-type {\n",
       "        vertical-align: middle;\n",
       "    }\n",
       "\n",
       "    .dataframe tbody tr th {\n",
       "        vertical-align: top;\n",
       "    }\n",
       "\n",
       "    .dataframe thead th {\n",
       "        text-align: right;\n",
       "    }\n",
       "</style>\n",
       "<table border=\"1\" class=\"dataframe\">\n",
       "  <thead>\n",
       "    <tr style=\"text-align: right;\">\n",
       "      <th></th>\n",
       "      <th>Unnamed: 0</th>\n",
       "      <th>Sentence_id</th>\n",
       "      <th>New_Sentence</th>\n",
       "      <th>Type</th>\n",
       "    </tr>\n",
       "  </thead>\n",
       "  <tbody>\n",
       "    <tr>\n",
       "      <th>0</th>\n",
       "      <td>0</td>\n",
       "      <td>GERRES15609</td>\n",
       "      <td>Author and/or Review architecture/design and o...</td>\n",
       "      <td>Responsibility</td>\n",
       "    </tr>\n",
       "    <tr>\n",
       "      <th>1</th>\n",
       "      <td>1</td>\n",
       "      <td>PHERES15784</td>\n",
       "      <td>Should be able to develop custom dynamic shape...</td>\n",
       "      <td>Responsibility</td>\n",
       "    </tr>\n",
       "    <tr>\n",
       "      <th>2</th>\n",
       "      <td>2</td>\n",
       "      <td>GERREQ10457</td>\n",
       "      <td>Experience in working crosslly with a  larger ...</td>\n",
       "      <td>Requirement</td>\n",
       "    </tr>\n",
       "    <tr>\n",
       "      <th>3</th>\n",
       "      <td>3</td>\n",
       "      <td>GERSKL27235</td>\n",
       "      <td>Previous business experience, including but no...</td>\n",
       "      <td>Skill</td>\n",
       "    </tr>\n",
       "    <tr>\n",
       "      <th>4</th>\n",
       "      <td>4</td>\n",
       "      <td>HONSSK18415</td>\n",
       "      <td>Delivering fast and right the first  time.</td>\n",
       "      <td>SoftSkill</td>\n",
       "    </tr>\n",
       "    <tr>\n",
       "      <th>5</th>\n",
       "      <td>5</td>\n",
       "      <td>INDRES9494</td>\n",
       "      <td>Track  department expenses and capital budget .</td>\n",
       "      <td>Responsibility</td>\n",
       "    </tr>\n",
       "    <tr>\n",
       "      <th>6</th>\n",
       "      <td>6</td>\n",
       "      <td>HONRES51852</td>\n",
       "      <td>Meet  performance metrics.</td>\n",
       "      <td>Responsibility</td>\n",
       "    </tr>\n",
       "    <tr>\n",
       "      <th>7</th>\n",
       "      <td>7</td>\n",
       "      <td>UAEREQ34683</td>\n",
       "      <td>YOU MUST HAVEBachelors degree  in Engineering.</td>\n",
       "      <td>Requirement</td>\n",
       "    </tr>\n",
       "    <tr>\n",
       "      <th>8</th>\n",
       "      <td>8</td>\n",
       "      <td>UAEREQ4612</td>\n",
       "      <td>After COVID-19: Ability to travel to manufactu...</td>\n",
       "      <td>Requirement</td>\n",
       "    </tr>\n",
       "    <tr>\n",
       "      <th>9</th>\n",
       "      <td>9</td>\n",
       "      <td>INDEDU42721</td>\n",
       "      <td>Six Sigma qualification to  at least Green Bel...</td>\n",
       "      <td>Education</td>\n",
       "    </tr>\n",
       "  </tbody>\n",
       "</table>\n",
       "</div>"
      ],
      "text/plain": [
       "   Unnamed: 0  Sentence_id                                       New_Sentence  \\\n",
       "0           0  GERRES15609  Author and/or Review architecture/design and o...   \n",
       "1           1  PHERES15784  Should be able to develop custom dynamic shape...   \n",
       "2           2  GERREQ10457  Experience in working crosslly with a  larger ...   \n",
       "3           3  GERSKL27235  Previous business experience, including but no...   \n",
       "4           4  HONSSK18415         Delivering fast and right the first  time.   \n",
       "5           5   INDRES9494    Track  department expenses and capital budget .   \n",
       "6           6  HONRES51852                         Meet  performance metrics.   \n",
       "7           7  UAEREQ34683     YOU MUST HAVEBachelors degree  in Engineering.   \n",
       "8           8   UAEREQ4612  After COVID-19: Ability to travel to manufactu...   \n",
       "9           9  INDEDU42721  Six Sigma qualification to  at least Green Bel...   \n",
       "\n",
       "             Type  \n",
       "0  Responsibility  \n",
       "1  Responsibility  \n",
       "2     Requirement  \n",
       "3           Skill  \n",
       "4       SoftSkill  \n",
       "5  Responsibility  \n",
       "6  Responsibility  \n",
       "7     Requirement  \n",
       "8     Requirement  \n",
       "9       Education  "
      ]
     },
     "execution_count": 48,
     "metadata": {},
     "output_type": "execute_result"
    }
   ],
   "source": [
    "df.head(10)\n",
    "#entire cell is my contribution"
   ]
  },
  {
   "cell_type": "code",
   "execution_count": 49,
   "id": "46b5bb8d",
   "metadata": {},
   "outputs": [
    {
     "data": {
      "text/html": [
       "<div>\n",
       "<style scoped>\n",
       "    .dataframe tbody tr th:only-of-type {\n",
       "        vertical-align: middle;\n",
       "    }\n",
       "\n",
       "    .dataframe tbody tr th {\n",
       "        vertical-align: top;\n",
       "    }\n",
       "\n",
       "    .dataframe thead th {\n",
       "        text-align: right;\n",
       "    }\n",
       "</style>\n",
       "<table border=\"1\" class=\"dataframe\">\n",
       "  <thead>\n",
       "    <tr style=\"text-align: right;\">\n",
       "      <th></th>\n",
       "      <th>Unnamed: 0</th>\n",
       "    </tr>\n",
       "  </thead>\n",
       "  <tbody>\n",
       "    <tr>\n",
       "      <th>count</th>\n",
       "      <td>75144.000000</td>\n",
       "    </tr>\n",
       "    <tr>\n",
       "      <th>mean</th>\n",
       "      <td>25548.340001</td>\n",
       "    </tr>\n",
       "    <tr>\n",
       "      <th>std</th>\n",
       "      <td>18055.461497</td>\n",
       "    </tr>\n",
       "    <tr>\n",
       "      <th>min</th>\n",
       "      <td>0.000000</td>\n",
       "    </tr>\n",
       "    <tr>\n",
       "      <th>25%</th>\n",
       "      <td>9392.750000</td>\n",
       "    </tr>\n",
       "    <tr>\n",
       "      <th>50%</th>\n",
       "      <td>22542.500000</td>\n",
       "    </tr>\n",
       "    <tr>\n",
       "      <th>75%</th>\n",
       "      <td>41328.250000</td>\n",
       "    </tr>\n",
       "    <tr>\n",
       "      <th>max</th>\n",
       "      <td>60114.000000</td>\n",
       "    </tr>\n",
       "  </tbody>\n",
       "</table>\n",
       "</div>"
      ],
      "text/plain": [
       "         Unnamed: 0\n",
       "count  75144.000000\n",
       "mean   25548.340001\n",
       "std    18055.461497\n",
       "min        0.000000\n",
       "25%     9392.750000\n",
       "50%    22542.500000\n",
       "75%    41328.250000\n",
       "max    60114.000000"
      ]
     },
     "execution_count": 49,
     "metadata": {},
     "output_type": "execute_result"
    }
   ],
   "source": [
    "df.describe()\n",
    "#entire cell is my contribution"
   ]
  },
  {
   "cell_type": "markdown",
   "id": "e3d55c98",
   "metadata": {},
   "source": [
    "Before dropping the tuples with missing values"
   ]
  },
  {
   "cell_type": "code",
   "execution_count": 50,
   "id": "42178cec",
   "metadata": {},
   "outputs": [
    {
     "data": {
      "text/plain": [
       "Unnamed: 0          0\n",
       "Sentence_id         0\n",
       "New_Sentence     1394\n",
       "Type            15029\n",
       "dtype: int64"
      ]
     },
     "execution_count": 50,
     "metadata": {},
     "output_type": "execute_result"
    }
   ],
   "source": [
    "df.isna().sum()"
   ]
  },
  {
   "cell_type": "code",
   "execution_count": 51,
   "id": "50cc0a21",
   "metadata": {},
   "outputs": [],
   "source": [
    "df = df.dropna( how='any',subset=['Type','New_Sentence'])\n",
    "#entire cell is my contribution"
   ]
  },
  {
   "cell_type": "markdown",
   "id": "1c606999",
   "metadata": {},
   "source": [
    "After dropping the tuples with missing values"
   ]
  },
  {
   "cell_type": "code",
   "execution_count": 52,
   "id": "b4ca2107",
   "metadata": {},
   "outputs": [
    {
     "data": {
      "text/plain": [
       "Unnamed: 0      0\n",
       "Sentence_id     0\n",
       "New_Sentence    0\n",
       "Type            0\n",
       "dtype: int64"
      ]
     },
     "execution_count": 52,
     "metadata": {},
     "output_type": "execute_result"
    }
   ],
   "source": [
    "df.isna().sum()"
   ]
  },
  {
   "cell_type": "markdown",
   "id": "a9f8573e",
   "metadata": {},
   "source": [
    "Number of tuples per each type"
   ]
  },
  {
   "cell_type": "code",
   "execution_count": 54,
   "id": "97952f64",
   "metadata": {},
   "outputs": [
    {
     "data": {
      "text/plain": [
       "Text(0, 0.5, 'Count')"
      ]
     },
     "execution_count": 54,
     "metadata": {},
     "output_type": "execute_result"
    },
    {
     "data": {
      "image/png": "[encoded data removed]",
      "text/plain": [
       "<Figure size 864x576 with 1 Axes>"
      ]
     },
     "metadata": {
      "needs_background": "light"
     },
     "output_type": "display_data"
    }
   ],
   "source": [
    "plt.figure(figsize=(12,8))\n",
    "count = df.Type.value_counts()\n",
    "sns.barplot(x=count.index, y=count)\n",
    "plt.xlabel('Type')\n",
    "plt.ylabel('Count')"
   ]
  },
  {
   "cell_type": "markdown",
   "id": "b2770d3b",
   "metadata": {},
   "source": [
    "Splitting data into train validation test."
   ]
  },
  {
   "cell_type": "code",
   "execution_count": 55,
   "id": "ca74da88",
   "metadata": {},
   "outputs": [],
   "source": [
    "train, validate, test = np.split(df.sample(frac=1), [int(.6*len(df)), int(.8*len(df))])"
   ]
  },
  {
   "cell_type": "code",
   "execution_count": 56,
   "id": "51785b66",
   "metadata": {},
   "outputs": [
    {
     "name": "stdout",
     "output_type": "stream",
     "text": [
      "The length of train data is :  35401 \n",
      "The length of validate data is : 11800 \n",
      "The length of test data is :  11801\n"
     ]
    }
   ],
   "source": [
    "print(\"The length of train data is : \",len(train), \"\\nThe length of validate data is :\",len(validate),\"\\nThe length of test data is : \",len(test))"
   ]
  },
  {
   "cell_type": "code",
   "execution_count": 57,
   "id": "2987bee3",
   "metadata": {},
   "outputs": [
    {
     "data": {
      "text/html": [
       "<div>\n",
       "<style scoped>\n",
       "    .dataframe tbody tr th:only-of-type {\n",
       "        vertical-align: middle;\n",
       "    }\n",
       "\n",
       "    .dataframe tbody tr th {\n",
       "        vertical-align: top;\n",
       "    }\n",
       "\n",
       "    .dataframe thead th {\n",
       "        text-align: right;\n",
       "    }\n",
       "</style>\n",
       "<table border=\"1\" class=\"dataframe\">\n",
       "  <thead>\n",
       "    <tr style=\"text-align: right;\">\n",
       "      <th></th>\n",
       "      <th>Unnamed: 0</th>\n",
       "    </tr>\n",
       "  </thead>\n",
       "  <tbody>\n",
       "    <tr>\n",
       "      <th>count</th>\n",
       "      <td>35401.000000</td>\n",
       "    </tr>\n",
       "    <tr>\n",
       "      <th>mean</th>\n",
       "      <td>30140.090704</td>\n",
       "    </tr>\n",
       "    <tr>\n",
       "      <th>std</th>\n",
       "      <td>17373.025462</td>\n",
       "    </tr>\n",
       "    <tr>\n",
       "      <th>min</th>\n",
       "      <td>0.000000</td>\n",
       "    </tr>\n",
       "    <tr>\n",
       "      <th>25%</th>\n",
       "      <td>15112.000000</td>\n",
       "    </tr>\n",
       "    <tr>\n",
       "      <th>50%</th>\n",
       "      <td>30187.000000</td>\n",
       "    </tr>\n",
       "    <tr>\n",
       "      <th>75%</th>\n",
       "      <td>45197.000000</td>\n",
       "    </tr>\n",
       "    <tr>\n",
       "      <th>max</th>\n",
       "      <td>60113.000000</td>\n",
       "    </tr>\n",
       "  </tbody>\n",
       "</table>\n",
       "</div>"
      ],
      "text/plain": [
       "         Unnamed: 0\n",
       "count  35401.000000\n",
       "mean   30140.090704\n",
       "std    17373.025462\n",
       "min        0.000000\n",
       "25%    15112.000000\n",
       "50%    30187.000000\n",
       "75%    45197.000000\n",
       "max    60113.000000"
      ]
     },
     "execution_count": 57,
     "metadata": {},
     "output_type": "execute_result"
    }
   ],
   "source": [
    "train.describe()\n",
    "#entire cell is my contribution"
   ]
  },
  {
   "cell_type": "code",
   "execution_count": 58,
   "id": "11aca473",
   "metadata": {},
   "outputs": [
    {
     "data": {
      "text/plain": [
       "Responsibility    9162\n",
       "Requirement       8318\n",
       "SoftSkill         5602\n",
       "Experience        5538\n",
       "Skill             4106\n",
       "Education         2675\n",
       "Name: Type, dtype: int64"
      ]
     },
     "execution_count": 58,
     "metadata": {},
     "output_type": "execute_result"
    }
   ],
   "source": [
    "train['Type'].value_counts()"
   ]
  },
  {
   "cell_type": "code",
   "execution_count": 59,
   "id": "0117be80",
   "metadata": {},
   "outputs": [
    {
     "data": {
      "text/plain": [
       "Text(0, 0.5, 'Count')"
      ]
     },
     "execution_count": 59,
     "metadata": {},
     "output_type": "execute_result"
    },
    {
     "data": {
      "image/png": "[encoded data removed]",
      "text/plain": [
       "<Figure size 864x576 with 1 Axes>"
      ]
     },
     "metadata": {
      "needs_background": "light"
     },
     "output_type": "display_data"
    }
   ],
   "source": [
    "plt.figure(figsize=(12,8))\n",
    "count = train.Type.value_counts()\n",
    "sns.barplot(x=count.index, y=count)\n",
    "plt.xlabel('Category')\n",
    "plt.ylabel('Count')"
   ]
  },
  {
   "cell_type": "markdown",
   "id": "91e9e8fb",
   "metadata": {},
   "source": [
    "Getting a list of stopwords from nltk library"
   ]
  },
  {
   "cell_type": "code",
   "execution_count": 60,
   "id": "9663e70c",
   "metadata": {},
   "outputs": [
    {
     "name": "stdout",
     "output_type": "stream",
     "text": [
      "['i', 'me', 'my', 'myself', 'we', 'our', 'ours', 'ourselves', 'you', \"you're\", \"you've\", \"you'll\", \"you'd\", 'your', 'yours', 'yourself', 'yourselves', 'he', 'him', 'his', 'himself', 'she', \"she's\", 'her', 'hers', 'herself', 'it', \"it's\", 'its', 'itself', 'they', 'them', 'their', 'theirs', 'themselves', 'what', 'which', 'who', 'whom', 'this', 'that', \"that'll\", 'these', 'those', 'am', 'is', 'are', 'was', 'were', 'be', 'been', 'being', 'have', 'has', 'had', 'having', 'do', 'does', 'did', 'doing', 'a', 'an', 'the', 'and', 'but', 'if', 'or', 'because', 'as', 'until', 'while', 'of', 'at', 'by', 'for', 'with', 'about', 'against', 'between', 'into', 'through', 'during', 'before', 'after', 'above', 'below', 'to', 'from', 'up', 'down', 'in', 'out', 'on', 'off', 'over', 'under', 'again', 'further', 'then', 'once', 'here', 'there', 'when', 'where', 'why', 'how', 'all', 'any', 'both', 'each', 'few', 'more', 'most', 'other', 'some', 'such', 'no', 'nor', 'not', 'only', 'own', 'same', 'so', 'than', 'too', 'very', 's', 't', 'can', 'will', 'just', 'don', \"don't\", 'should', \"should've\", 'now', 'd', 'll', 'm', 'o', 're', 've', 'y', 'ain', 'aren', \"aren't\", 'couldn', \"couldn't\", 'didn', \"didn't\", 'doesn', \"doesn't\", 'hadn', \"hadn't\", 'hasn', \"hasn't\", 'haven', \"haven't\", 'isn', \"isn't\", 'ma', 'mightn', \"mightn't\", 'mustn', \"mustn't\", 'needn', \"needn't\", 'shan', \"shan't\", 'shouldn', \"shouldn't\", 'wasn', \"wasn't\", 'weren', \"weren't\", 'won', \"won't\", 'wouldn', \"wouldn't\"]\n"
     ]
    }
   ],
   "source": [
    "sw_nltk = stopwords.words('english')\n",
    "print(sw_nltk)\n",
    "#entire cell is my contribution using the help of the below mentioned reference."
   ]
  },
  {
   "cell_type": "markdown",
   "id": "2db6d1a0",
   "metadata": {},
   "source": [
    "REF https://towardsdatascience.com/text-pre-processing-stop-words-removal-using-different-libraries-f20bac19929a"
   ]
  },
  {
   "cell_type": "markdown",
   "id": "6240dc64",
   "metadata": {},
   "source": [
    "Counting the number of times, each word has appeared throughout the dataset by creating a dictionary for frequency count of words in the dataset."
   ]
  },
  {
   "cell_type": "code",
   "execution_count": 64,
   "id": "89748713",
   "metadata": {},
   "outputs": [
    {
     "name": "stdout",
     "output_type": "stream",
     "text": [
      "{'five': 59, 'years': 4285, 'mechanical': 162, 'experience': 6561, 'installing': 12, 'operational': 44, 'maintenance': 61, 'good': 838, 'interpersonal,': 29, 'verbal': 202, 'written': 366, 'bachelors': 970, 'degree': 1767, 'business,': 114, 'engineering': 707, 'ability': 2353, 'work': 1438, 'independently': 101, '&': 672, 'manage': 418, 'business': 793, 'marketing': 106, 'leaders': 46, 'working': 962, 'applying': 19, 'design': 473, 'team': 775, 'player': 61, 'willing': 66, 'stand': 9, 'collaborating': 21, 'development': 566, 'teams': 182, 'launch': 11, 'new': 241, 'ensuring': 49, 'dummy': 506, 'block': 506, 'text': 506, 'iso': 16, 'and/or': 184, 'support': 596, 'des': 100, 'basic': 166, 'knowledge': 1527, 'operating': 71, 'microsoft': 169, 'focus': 60, 'architecting': 20, 'systems,': 37, 'including': 151, 'minimum': 885, 'high': 267, 'level': 219, 'distribution': 17, '7+': 113, 'teamcenter': 18, 'plm': 9, 'large': 96, 'visual': 18, 'equivalent': 101, 'required,': 22, 'chemical': 91, '5+': 516, 'implementing': 82, 'automated': 21, 'able': 521, 'prioritize': 46, 'coordinate': 123, 'tasks': 63, 'resource': 42, 'need': 73, 'build': 175, 'complex': 218, 'analysis': 190, 'energy': 56, 'management': 822, 'control': 167, 'systems': 220, '10+': 225, 'relevant': 256, 'informatica': 21, ',': 39, 'assessing': 10, '1+': 150, 'year': 199, 'modern': 18, 'application': 150, 'administration': 40, 'relationship': 63, 'human': 56, 'resources': 46, 'deal': 31, 'ambiguity': 8, 'preferred': 78, 'project': 747, 'strong': 1429, 'hands': 217, 'actively': 62, 'participate': 139, 'honeywell': 152, 'structured': 20, 'handle': 55, 'ticket': 7, 'van': 25, 'software': 453, 'ensure': 278, 'service': 195, 'services': 84, 'maintain': 198, 'domain': 88, 'expertise': 167, 'background': 93, 'insurance': 33, 'life': 70, 'managing': 252, 'financials': 6, 'market': 57, 'focused': 44, 'mindset': 28, 'understanding': 621, 'sciences': 9, 'r&d': 22, 'least': 312, 'multiple': 197, 'clear': 44, 'concise': 14, 'communication': 758, 'superior': 16, 'und': 151, 'pmp': 34, 'certification': 195, 'develop': 384, 'computer': 389, 'literate': 7, 'experienced': 108, 'perform': 192, 'system,': 9, 'integration': 107, '2+': 303, 'troubleshooting': 78, 'industry': 161, 'standard': 64, 'product': 405, 'significant': 106, 'manufacturing': 143, 'identify': 181, 'best': 76, 'practices': 44, 'cloud': 151, 'provider': 6, '(e.g.,': 8, 'azure,': 6, '3+': 427, 'customer': 536, 'training': 113, 'interface': 60, 'internal': 126, 'driven': 39, 'leadership': 351, 'planning': 122, 'demonstrated': 440, 'skills': 962, 'data': 493, 'subject': 41, 'pm': 14, 'highly': 154, 'familiarity': 124, 'drive': 308, '8+': 108, 'java': 95, 'financial': 128, 'acumen': 50, 'demonstrate': 94, 'mba': 92, 'quantitative': 7, 'graduate': 105, 'de': 297, 'apis': 12, '5-10': 9, 'sales,': 28, 'preferably': 72, 'analyst': 52, 'senior': 122, 'model': 38, 'diverse': 35, 'think': 38, 'big': 40, 'candidate': 307, 'expected': 34, 'leverage': 31, 'testing,': 14, 'engineering,': 168, 'must': 1150, 'us': 173, 'citizen': 65, 'obtain': 68, 'eye': 16, 'learning': 51, 'prepare': 73, 'test': 264, 'plan': 86, 'successfully': 21, 'part': 119, 'analytical': 273, 'problem-solving': 103, 'cross-functional': 57, 'integrated': 28, 'implement': 124, 'cybersecurity': 16, 'go': 7, 'lead': 455, 'responsible': 303, 'provide': 349, 'bei': 13, 'arbeiten': 5, 'solid': 93, 'statistical': 15, 'leads': 45, 'proper': 15, 'required:': 36, '~5': 5, 'phd': 25, 'chemical,': 5, 'position': 173, 'leader': 75, 'pipelines': 5, 'continuously': 18, 'improve': 48, 'technical': 703, 'skills-': 22, '-': 322, 'frans': 7, 'et': 128, 'anglais': 9, 'afin': 5, 'berufserfahrung': 14, 'nach': 5, 'dem': 6, 'global': 196, 'agile': 217, 'electrical': 187, 'automation,': 16, 'hvac,': 5, 'follow': 72, 'instructions': 9, 'analyse': 11, 'capture': 9, 'key': 347, 'professional': 182, 'engage': 53, 'honeywells': 13, 'functions': 34, 'implementation': 77, 'within': 192, 'servicenow': 23, 'mongodb': 6, 'instrumentation': 13, 'hardware': 65, 'people': 107, 'quality': 204, 'engineer': 116, 'ms': 123, 'office,': 13, 'especially': 7, 'excel': 62, 'function': 33, 'db2': 5, 'required': 249, 'towards': 18, 'different': 51, 'dynamics': 12, 'sap': 188, 'related': 222, 'erp': 53, 'system': 227, 'willingness': 86, 'travel': 224, 'en': 142, 'le': 40, 'participates': 22, 'facilitate': 49, 'critical': 80, 'exceptional': 55, 'sowie': 7, 'von': 48, 'third-party': 5, 'member': 46, 'hce': 6, 'expect': 8, 'comfortable': 62, 'youll': 14, 'use': 147, 'creativity': 13, 'organization': 75, 'dual': 5, 'proven': 361, 'track': 148, 'collaboration': 52, 'net': 9, 'java,': 32, 'html,': 7, 'css,': 6, 'javascript,': 6, 'qualified': 27, 'chartered': 6, 'lawful': 5, 'permanent': 20, 'resident': 10, 'bonnes': 6, 'record': 121, 'vous': 33, 'worked': 34, 'updating': 8, 'master': 66, 'science,': 109, 'documentation': 55, 'cpa': 12, 'communicate': 158, 'concisely': 5, 'well-versed': 7, 'preferable': 12, 'delivering': 42, 'direct': 131, 'efforts': 16, 'creation': 37, 'je': 6, 'job': 202, 'id:': 133, 'broad': 51, 'refining': 11, 'process': 338, 'date': 14, 'accurate': 34, 'includes': 34, 'prefer': 13, 'oral': 117, 'masters': 211, 'collaborate': 111, 'partners': 35, 'maintains': 24, 'call': 19, 'evaluation': 10, 'due': 104, 'contractual': 52, 'responsibilities': 75, 'role,': 42, 'interact': 69, 'projects,': 16, 'listening': 10, 'running': 9, 'research': 59, 'projects': 173, 'experion': 9, 'pks': 5, 'interfaces': 17, 'diploma': 73, 'extensive': 143, 'sales': 380, 'problem': 216, 'solving': 133, 'utilizing': 18, 'establish': 77, 'mos': 20, 'proactive,': 15, 'defining': 35, 'executing': 34, 'information': 158, 'analyze': 86, 'competitive': 18, '2-year': 6, 'continuous': 91, 'clients': 38, 'interpersonal': 163, 'relations': 13, 'ui': 31, 'designer': 6, 'fxfcr': 15, 'technische': 11, 'laws': 7, 'security': 223, 'flexible': 51, 'ethic': 10, 'passion': 61, 'evolving': 6, 'around': 25, 'matter': 33, 'expert': 111, 'solution': 105, 'base': 13, 'manual': 23, 'machining': 16, 'science': 262, 'develops': 55, 'assigned': 48, 'networking': 47, 'gute': 26, 'sehr': 8, 'measure': 13, 'concepts': 39, 'finance,': 29, 'delivery': 118, 'produce': 22, 'efficient': 20, 'code': 63, 'based': 70, 'create': 152, 'blue': 7, 'oriented': 50, 'utilize': 24, 'demand': 42, 'asset': 23, 'conduct': 94, 'on-site': 20, 'short': 12, 'demonstrates': 47, 'framework': 21, 'core': 49, '5-7': 25, 'roles': 27, 'vmware': 11, 'main': 13, 'duties': 17, 'include': 70, 'creating': 58, 'modules': 10, 'thought': 29, 'one': 113, 'uop': 24, 'bachelor': 161, 'management,': 86, 'requirements': 142, 'seek': 12, 'using': 236, 'crm': 31, 'tools': 183, 'proficient': 114, 'would': 42, 'transform': 5, 'across': 145, 'connected': 13, 'building': 173, 'accounting': 75, '+': 163, 'hands-on': 226, 'salesforce': 72, 'version': 8, '(microsoft': 5, 'office': 109, 'in:': 8, 'next': 10, 'developer,': 8, 'cutting': 5, 'capable': 75, 'tableau,': 8, 'either': 27, 'initial': 6, 'einem': 7, 'schedule': 42, 'meetings': 36, 'automation': 152, '(word,': 7, 'excel,': 21, 'powerpoint': 6, 'un': 39, 'engagement': 40, 'la': 76, 'thinking': 61, 'havebachelors': 164, 'identifies': 19, 'accounts': 24, 'require': 31, 'special': 19, 'basis': 12, 'estimate': 9, 'cost': 67, 'centric': 5, 'improvement': 75, 'solutions,': 9, 'language': 75, 'and/': 8, '/': 464, 'skills:': 66, 'teamwork': 20, 'technologies': 47, 'front-end': 14, 'overseeing': 7, 'day': 26, 'excellent': 734, 'presentation,': 14, 'manager,': 18, 'instructional': 7, '5s': 7, '6+': 100, 'banking': 24, 'timely': 57, 'requests': 12, 'productivity': 19, 'force': 6, 'needs,': 6, 'identifying': 30, '(like': 7, 'aws,': 9, 'needed': 19, 'closely': 116, 'customers': 103, 'organize': 24, 'daily': 43, 'weekly': 15, 'possess': 104, 'confidence': 6, 'directly': 74, '4+': 118, 'also': 93, 'story': 6, 'exposure': 104, 'establishes': 9, 'strategic': 127, 'direction': 30, 'together': 12, 'database': 74, 'integrative': 10, 'train': 35, 'others': 31, 'effectively': 165, 'connaissance': 21, 'du': 48, 'xfc': 27, 'performs': 42, 'activities': 84, 'assures': 6, 'construction': 11, 'undergraduate': 15, 'sense': 37, 'role': 281, 'ideal': 54, 'someone': 19, 'clearly': 34, 'articulate': 19, 'messages': 5, 'integrating': 11, 'understand': 212, 'opportunity': 50, 'enhance': 15, 'debug': 8, 'resolve': 55, 'material': 71, 'design,': 101, 'reports,': 11, 'dashboards': 6, 'assignments': 14, 'advise': 12, 'map': 11, 'client': 150, 'requirements,': 29, 'processes': 101, 'two': 62, 'manage,': 11, 'coach,': 12, 'evaluate': 47, 'claims': 6, 'initiative,': 10, 'facing': 44, 'rpa': 14, 'finance': 126, 'transformation': 31, 'credibility': 5, 'fluency': 32, 'analytics': 49, 'post': 29, 'graduation': 8, 'accountable': 37, 'profit': 5, 'advanced': 237, 'programs': 30, 'detailed': 64, 'review': 125, 'risk': 87, 'oversight': 17, 'prior': 112, 'decision': 38, 'learn': 94, 'expand': 10, 'uses': 14, 'analysis,': 29, 'defined': 21, 'cyber': 59, 'security,': 6, 'it,': 19, 'meeting': 26, 'capabilities': 24, 'external': 49, 'managers': 43, 'developing': 233, 'jira,': 13, 'field': 150, 'essential': 30, 'utilization': 13, 'migration': 23, 'abet': 15, 'een': 18, 'valuestrong': 9, 'identified': 9, 'electronic': 47, '+3': 6, 'leading': 238, 'attain': 14, 'supply': 142, 'chain': 73, 'environment': 65, 'established': 19, 'expectations': 14, 'dynamic': 32, 'supports': 41, 'changes': 24, 'develop,': 14, 'deploy': 29, 'successful': 118, 'candidates': 59, 'incorporate': 10, 'per': 24, 'outbound': 5, 'calls': 18, 'periodically': 5, 'execute': 93, 'initiatives': 28, 'applications': 58, 'competent': 6, 'involve': 14, 'capacitxe9': 30, 'xe0': 60, 'travailler': 16, 'document': 49, 'performing': 45, 'provides': 58, ':': 58, 'onboarding': 5, 'experiences': 20, 'firmware': 11, 'applicable': 11, 'local': 44, 'codes': 5, 'six': 115, 'sigma': 108, 'green': 41, 'belt': 47, 'marketing,': 30, '10-15': 9, 'overall': 85, 'ideally': 20, 'skills.': 23, 'associates': 48, 'sr': 29, 'specialist': 29, 'upper': 5, 'les': 67, 'procres': 5, 'processus': 5, 'works': 50, 'administrative': 23, 'graphics': 6, 'levels': 48, 'visualization': 17, 'like': 73, 'contribute': 69, 'operate': 45, 'ot': 6, 'audit': 37, 'various': 107, 'gas': 36, 'valuemasters': 7, 'logistics': 37, 'addition,': 19, 'opportunities': 44, 'c': 12, '(5)': 17, 'adept': 12, 'coordinating': 30, 'programming': 94, 'assembly': 30, 'lab': 23, 'meet': 74, 'improvements': 20, 'target': 14, 'driven,': 7, 'focused,': 5, 'motivated,': 13, 'embedded': 66, 'issues': 79, 'schedules': 16, 'months': 63, 'valuesome': 10, 'user': 62, 'he/she': 15, 'pmi': 7, 'certified': 88, '(or': 29, 'valuesignificant': 9, 'present': 50, 'education:': 28, 'program': 176, 'proficiency': 136, 'end': 109, 'benefits': 12, 'applies': 12, 'hos': 12, 'standards': 42, 'plans': 60, 'english': 195, 'motivated': 39, 'time': 113, 'technology': 172, 'industrial': 94, 'troubleshoot': 29, 'attention': 67, 'detail': 51, 'aerospace': 92, 'impact': 21, 'wide': 14, 'scrum': 53, 'coach': 31, 'selling': 66, 'xd8': 47, 'infrastructure': 43, 'black': 24, 'optimization': 9, '(including': 5, 'une': 23, 'devops': 34, 'utility': 9, 'flow': 11, 'qualification': 54, 'im': 45, 'run': 20, 'approximately': 8, 'analyzing': 39, 'oil': 8, 'dfss': 6, 'may': 97, 'sites': 13, '5-8': 18, 'read,': 11, 'creative': 38, 'restful': 13, 'commercial': 76, 'planning,': 57, 'define,': 7, 'complex,': 7, 'recruitment': 10, 'passionate': 20, '12+': 38, 'governance': 13, 'range': 22, 'cross': 69, 'functional': 183, 'mentor,': 6, 'solve': 26, 'practical': 36, 'problems': 40, 'responsibilities:': 7, 'manager': 102, 'closure': 8, 'finonecial': 7, 'mechanical,': 27, 'supplier': 52, 'ux': 17, 'coordination': 36, 'erp,': 7, 'sit': 8, 'make': 73, 'sound': 58, 'decisions': 37, 'hours': 13, 'overtime': 6, 'unix': 11, 'corrective': 15, 'action': 31, 'deliver': 100, 'month': 11, 'close': 35, 'regularly': 8, 'operations': 108, 'speed': 9, 'years+': 7, 'plus.': 5, 'electronics': 41, 'secure': 13, 'competence': 6, 'paced,': 5, 'challenging': 11, 'plus': 68, 'recommendations': 13, 'reading': 25, 'interpreting': 7, 'well': 112, 'belt,': 11, 'lean,': 5, 'defense': 10, 'desire': 33, 'soft': 21, 'take': 64, 'requires': 103, '40%': 5, 'influence': 118, 'set': 57, 'engineer,': 8, 'operations,': 12, 'kenntnisse': 13, 'sql,': 16, 'c++': 13, 'routine': 6, 'feedback': 14, '3-4': 21, 'procurement': 49, 'scripting': 35, 'appropriate': 38, 'skill': 50, 'similar': 70, 'gaap': 10, 'ownership': 43, 'role:': 10, 'individual': 69, 'contributor': 10, 'monthly': 36, 'variance': 10, 'individuals': 35, 'thrive': 14, 'mentor': 68, 'serve': 30, 'capability': 53, 'grow': 21, 'low': 19, 'technique': 8, 'facilitation': 9, 'export': 49, 'controls': 56, 'laws,': 15, 'ideation': 5, 'preparing': 18, 'proposals': 12, 'hr': 88, 'knowledge/experience': 14, 'join': 37, 'delivers': 9, 'u.s.': 44, 'define': 78, 'vision': 12, 'communications': 65, 'success': 70, 'interaction': 29, 'architecture,': 12, 'setup': 13, 'aws': 46, 'open': 20, 'source': 24, 'location:': 30, 'm&a': 12, 'installation': 21, 'haveminimum': 16, 'education': 51, 'relationships,': 9, 'ensures': 47, 'fit': 6, 'purpose': 12, 'history': 14, 'social': 10, 'media': 11, 'monitoring': 26, 'real': 22, 'optimize': 16, 'four': 21, 'informed': 5, 'major': 25, 'python': 23, 'methods': 16, 'fluent': 87, 'ingeur': 7, 'informatique,': 5, 'avez': 7, 'acquis': 5, 'state': 11, '(pmp)': 6, 'entire': 12, 'cycle': 42, 'fabrication': 7, 'volume': 9, '(': 16, 'automating': 6, 'kpi': 5, 'strategy': 87, 'current': 58, 'frequently': 8, 'performance': 142, 'experiia': 11, 'em': 23, 'desenvolvimento': 5, 'web': 107, 'server': 42, 'object-oriented': 8, 'guidewire': 10, 'suite': 17, 'skills,': 165, 'help': 68, 'min': 46, 'po': 6, 'given': 11, 'relationships': 92, 'coverage': 5, 'solutions': 139, 'involved': 25, 'multi-cultural': 5, 'comply': 11, 'sourcing': 45, 'users': 12, 'value': 105, 'self-starter': 37, 'javascript': 15, 'skills;': 21, 'active': 60, 'participation': 22, 'architecture': 80, 'cross-functionally': 9, 'detail,': 7, 'director': 43, 'monitor': 43, 'mobile': 21, 'repair': 33, 'payroll': 16, 'backlog': 9, 'sensor': 6, 'verification': 23, 'verify': 13, 'fast': 34, 'needs': 56, 'exciting': 7, 'sql': 86, 'areas': 53, 'approach,': 7, 'diagnostic': 7, 'cognizant': 52, 'outlook,': 5, 'b.s.': 15, 'materials': 52, 'scripts': 17, 'staff': 19, 'shall': 13, 'itar': 7, '3-5': 79, 'yrs': 56, 'safe': 32, 'operation': 22, 'scientific': 6, 'periodic': 13, 'assist': 102, 'technical,': 11, 'apply': 49, 'translate': 39, 'evm': 7, '(earned': 5, 'power': 41, 'bi': 23, 'influencing': 25, 'exp': 20, 'xe2xa2': 51, 'adhere': 24, 'standards,': 9, 'sap,': 26, 'azure': 63, 'additional': 43, 'fire': 19, 'alarm': 11, 'panel': 5, 'technology,': 34, 'note:': 6, 'turkish': 6, 'designing': 73, 'meets': 8, 'build,': 10, 'negotiate': 22, 'minimal': 23, 'conjunction': 5, 'qualifications': 32, 'coding': 29, 'insights': 16, 'microservices': 11, 'monitors': 11, 'responsibility': 54, 'deep': 95, 'conflicts': 6, 'collaboratively': 20, 'deadlines': 14, 'fix': 5, 'defects': 5, 'share': 21, 'corporate': 36, 'type': 10, 'payment': 14, '(2)': 13, 'joint': 5, 'channels': 5, 'culture': 14, 'hohe': 11, 'tableau': 18, 'resolving': 13, 'negotiating': 9, 'play': 19, 'remote': 25, 'electrical,': 27, 'report': 60, 'price': 11, 'routing': 15, 'results': 82, 'desired': 22, 'certifications:': 6, 'reduction': 9, 'creates': 10, 'content': 29, 'cases': 16, 'category': 6, 'secondary': 16, 'regional': 37, 'previous': 134, 'products': 73, 'total': 45, 'root': 32, 'cause': 27, 'hand': 19, 'driving': 66, 'lead,': 14, 'erstellung': 6, 'der': 71, 'bon': 5, 'niveau': 6, 'stakeholder': 31, 'change': 113, 'necessary': 22, '6-8': 20, 'matrix': 40, 'hvac': 38, 'foster': 12, 'inputs': 23, 'goal': 14, 'setting': 28, 'wire': 7, 'sw': 12, 'accomplished': 5, 'owning': 6, 'ecosystem': 5, 'raise': 8, 'educate': 8, 'flexibility': 26, 'goals': 13, 'interactions': 7, 'site': 54, 'presentation': 113, 'reports': 69, 'combination': 16, 'three': 27, 'accounting,': 20, 'managerial': 14, 'experience,': 82, 'group': 26, 'scheduling': 16, 'configuration': 43, 'account': 73, 'consultative': 14, 'licensed': 6, 'networks': 12, 'internally': 6, 'hbs': 10, 'become': 18, 'trusted': 16, 'advisor': 6, 'tight': 15, 'cisco': 22, 'certifications': 48, 'havebachelor': 22, 'personal': 33, 'healthy': 5, 'mba,': 10, 'solver': 7, 'positive': 48, 'selected': 18, 'know': 17, 'read': 34, 'guidelines': 15, 'written,': 32, 'abilities': 18, 'ba': 13, 'mit': 51, 'gather': 12, 'accessibility': 7, 'eine': 12, 'analysts': 7, 'excellence': 37, 'organizational': 100, 'unit': 33, 'oracle': 87, 'international': 41, 'quarterly': 7, 'enterprise': 54, 'reviews': 40, 'complete': 52, 'estimating': 6, 'rf': 16, 'tasks,': 7, 'degree;': 9, 'documents': 25, 'virtualization': 5, 'members': 46, 'writing': 65, 'storage': 14, 'self-motivated': 75, 'network': 81, 'bringing': 6, 'penetration': 6, 'approve': 8, 'baseline': 5, 'maintaining': 43, 'revenue': 19, 'forecasts': 6, 'providing': 55, 'assistance': 10, 'team,': 22, 'monitoring,': 5, 'in-depth': 34, 'angular': 14, 'can-do': 15, 'attitude,': 11, 'installation,': 11, 'techniques': 17, 'enthusiastic': 7, 'self-motivated,': 31, 'proactive': 51, 'api,': 7, 'react': 15, 'js,': 6, '2nd': 6, 'component': 24, 'spend': 7, 'actual': 6, 'integrate': 17, 'micro': 9, 'developing,': 8, 'deploying': 26, 'dans': 32, 'travail': 6, 'understands': 25, 'familiar': 77, 'effective': 198, 'school': 83, 'ged': 12, 'enhancement': 8, 'via': 11, 'top': 15, 'university': 33, 'honeywell,': 8, 'offering': 16, 'owns': 8, 'safety': 68, 'factors': 5, 'au': 16, 'compliance': 66, 'hast': 6, 'einen': 5, 'bachelor-': 5, 'oder': 24, 'optical': 11, 'attend': 15, 'achieving': 14, '4-6': 12, 'changing': 27, 'small': 28, 'processing': 19, 'lean': 61, 'company': 19, '15+': 40, 'progressive': 45, 'agile,': 5, 'process,': 12, 'demonstrable': 24, 'aspects': 39, 'machine': 30, 'saas': 19, 'navigating': 6, 'workshops': 8, 'requirement': 46, 'health': 14, 'adapt': 49, 'quickly': 72, 'rapidly': 11, 'regulatory': 32, 'interfacing': 25, 'military': 6, 'c/c++': 8, 'lift': 30, 'mindestens': 7, 'bereich': 11, 'strongly': 15, 'full': 66, 'mentoring': 25, 'dutch': 17, 'developed': 17, 'legacy': 5, 'actions': 14, 'undertake': 5, 'drivers': 14, 'erfahrung': 33, 'analytical,': 40, 'definition': 14, 'public': 23, 'outstanding': 33, 'portfolio': 42, 'executive': 43, 'b2b': 23, 'interpret': 37, 'policy': 7, 'models': 15, 'end-to-end': 37, 'consistently': 37, 'french': 21, 'table': 6, 'following': 37, 'tools:': 6, 'talent': 24, 'get': 15, 'query': 7, 'update': 31, 'effort': 6, 'standardized': 9, 'matrixed': 16, 'conveyor': 5, 'spanish': 6, 'inventory': 38, 'versed': 17, 'rest': 18, 'r&o': 6, 'handling': 64, 'hazardous': 6, 'without': 14, 'supervision,': 9, 'forecasting': 11, 'effectiveness': 8, '3rd': 12, 'party': 14, 'ict': 15, 'professional,': 5, 'valuebachelors': 20, 'degrees': 10, 'testing': 194, 'features': 5, 'polish': 5, 'c1': 8, 'level,': 8, 'designing,': 20, 'orders': 18, 'person': 44, 'currently': 22, 'seeking': 9, 'certification(s)': 11, 'reliability': 6, 'metrics,': 6, 'speaking': 14, 'tax': 22, 'citizenship': 58, 'status': 31, 'degree,': 55, 'architectural': 13, 'debugging': 33, 'spring': 26, 'boot,': 7, 'avec': 25, 'program,': 11, 'comprehensive': 25, 'pro-active': 8, 'virtual': 14, 'request': 9, 'keen': 15, 'analog': 16, 'aptitude': 21, 'gathering': 16, 'aspect': 5, 'languages': 27, 'self': 36, 'negotiation': 35, 'recommend': 18, 'enable': 19, 'linux': 32, 'sind': 8, 'experience:': 85, 'start': 5, 'channel': 31, 'risks': 24, 'adjust': 9, 'integrity': 11, 'wms': 6, 'address': 19, 'itil': 22, 'law': 21, 'isc': 27, 'move': 7, 'acceptance': 10, 'taking': 16, 'investigations': 5, 'assists': 26, 'aerospace,': 17, 'experiencia': 13, 'el': 5, 'supervision': 20, 'self-starter,': 24, 'occasional': 6, 'supporting': 73, 'medium': 12, 'delivery,': 11, 'analyses': 11, 'making': 27, '3.experience': 5, '4.required': 7, 'leadership,': 32, 'problem-solving,': 7, 'grasp': 16, 'assess': 36, 'partner': 140, '(excel,': 7, 'word,': 19, 'foreign': 12, 'development,': 38, 'win': 10, 'sharing': 10, 'writing,': 13, 'bpm': 8, 'college': 43, 'selection': 8, 'insight': 6, 'confident': 11, 'implemented': 5, 'workflow': 8, 'warehouse,': 6, 'assembly,': 9, 'machines': 6, 'image': 5, 'oem': 6, 'engagements': 17, 'auf': 5, 'ten': 7, 'suggest': 7, 'suitable': 7, 'requirements:': 9, 'completed': 23, 'transport': 5, 'regulated': 7, 'bring': 19, 'fundamental': 14, 'organisational': 5, 'align': 13, 'objectives': 22, '.': 12, 'hold': 13, 'faa': 8, 'regulations,': 9, 'proposal': 24, 'strategies': 50, 'skilled': 25, 'pc': 12, 'typical': 9, 'possesses': 18, 'digital': 96, 'awareness': 19, 'organization,': 13, 'establishing': 9, 'great': 29, '10%': 15, 'domestic': 14, 'associated': 16, 'level:': 6, '2-3': 30, 'immediate': 9, 'utilizes': 8, 'studying': 7, 'interest': 29, 'frequent': 10, 'checks': 7, 'validate': 17, 'accuracy': 16, 'music': 5, 'adobe': 12, 'designs': 21, 'events': 9, 'trade': 37, 'release': 21, 'portuguese': 11, 'tool': 33, 'employment': 11, 'scalable': 5, 'deployment': 32, 'desktop': 8, 'cnc': 15, 'measurement': 12, 'equipment': 54, 'het': 16, 'administration,': 7, 'environment,': 8, 'zum': 9, 'den': 6, 'creatively': 11, 'e': 34, 'secret': 10, 'professionals': 7, 'ethic,': 5, 'positive,': 15, 'capital': 19, 'approach': 36, 'growing': 8, 'als': 11, 'quick': 25, 'mainframe': 11, 'sustain': 10, 'long-term': 8, 'preparation': 25, 'back-end': 5, 'advisory': 7, 'serving': 8, 'ibm': 21, 'listen': 6, 'representative': 5, 'emi/emc': 5, 'multitask': 12, 'communicator,': 8, 'windows': 46, 'fgkeit,': 7, 'platform': 40, 'final': 11, 'tracking': 18, 'issues,': 7, 'building,': 5, 'troubleshooting,': 10, 'rapport': 6, 'innovative': 28, 'shop': 16, 'production': 81, 'communicator': 31, 'result-oriented': 5, 'ahead': 6, 'anticipate': 16, 'future': 13, 'reporting': 106, 'transition': 14, 'have2+': 12, 'scm': 7, 'description:': 10, 'fulfillment': 5, 'graduates': 6, 'measures': 8, '(preferably': 16, '80%': 7, 'custom': 16, 'receive': 10, 'aero': 13, 'autocad': 12, 'indirect': 12, 'hana': 9, 'architect': 46, 'act': 71, 'consultant': 14, 'mdg': 7, 'bilingual': 8, 'japanese': 6, 'pivot': 6, 'fixes': 5, '2-5': 13, 'assign': 7, 'load': 9, 'commodity': 8, 'multinational': 14, 'procurement,': 11, 'domains': 5, 'enjoy': 10, 'stories': 8, '3-6': 6, 'forklift': 8, 'innovate': 7, 'oriented,': 9, 'motivate': 23, '(to': 6, 'developer': 53, 'tech': 37, 'platforms': 11, 'client-facing': 9, '2-4': 9, 'innovative,': 8, 'application,': 5, 'director,': 7, 'flexible,': 8, 'located': 7, 'estimates': 14, 'flight': 15, 'consult': 9, 'team-oriented': 5, 'represent': 13, 'anticipated': 6, 'employee': 22, 'formal': 18, 'credit': 8, 'gap': 6, '+5': 13, 'healthcare': 30, 'raw': 7, 'multi-task': 25, 'growth': 52, 'pursuing': 25, 'diploma,': 6, 'certificate': 17, 'cx': 11, 'jira': 18, 'safely': 7, 'hbt': 12, 'takes': 13, 'stop': 5, '1-2': 30, 'waterfall': 6, 'desirable': 17, 'ausbildung': 12, 'q': 17, '50%': 24, 'warehouse': 27, '4-8': 6, 'hon': 11, 'protocol': 5, 'results-oriented': 10, 'challenge': 6, 'adequate': 5, 'physical': 23, 'board': 9, 'task': 19, 'eligible': 8, 'junior': 20, 'api': 31, 'bms': 16, 'execution': 54, 'exhibits': 9, 'oversee': 32, 'health,': 8, 'acumen,': 17, 'qa': 19, 'problems,': 7, 'respond': 21, 'bid': 24, 'mindset,': 5, 'computing': 12, 'principles': 22, 'lifecycle': 25, 'response': 13, 'region': 9, 'generate': 24, 'logical': 22, 'evaluation,': 5, 'selection,': 7, 'early': 6, 'methodologies': 26, 'associate': 41, 'ou': 21, 'connaissances': 7, 'forge': 15, 'added': 19, 'accredited': 36, 'agent': 20, 'valid': 20, 'clean': 7, 'capacity': 29, 'contracts': 12, 'conflict': 14, 'analyze,': 26, 'positions': 9, 'apac': 5, 'leader,': 10, 'vendor': 29, 'promote': 22, 'efficiency': 6, 'stay': 15, 'organized': 14, 'important': 11, 'self-motivation': 12, 'supply,': 6, 'vendors': 11, 'bs': 67, '10-12': 12, 'multiple,': 9, 'relational': 13, 'databases': 20, 'stress': 10, 'modeling': 19, 'globally': 7, 'fast-paced': 23, 'dlopper': 5, 'iot': 24, 'selenium': 15, 'heeft': 9, 'havebs': 10, 'fast-paced,': 17, '4-5': 9, 'nice': 30, 'hp': 5, 'navigation': 12, 'intellectual': 5, 'property': 6, 'precision': 6, 'legal': 23, 'drafting': 8, 'google': 10, 'details,': 5, 'orientation': 6, 'white': 5, 'space': 18, 'layout': 11, 'zusammenarbeit': 5, 'stakeholders': 50, 'liaise': 15, 'creativity,': 6, 'shift': 19, 'handover': 5, 'practice': 23, 'usage': 21, 'world': 5, 'class': 6, 'develops,': 10, 'translating': 14, 'execution,': 5, 'tests': 16, 'gaps': 11, 'restrictions,': 7, 'looking': 66, 'engineers': 34, 'gr': 8, 'que': 9, 'doe': 17, 'competing': 5, 'priorities': 24, 'primary': 54, 'liaison': 22, 'terms': 16, 'used': 19, 'defect': 12, 'resolution': 20, 'cloud-based': 5, 'tx': 5, 'c#': 22, 'python,': 13, 'suppliers': 15, '8-10': 19, 'broader': 12, 'specific': 47, 'script': 6, 'pursuit': 9, 'command': 18, 'bom': 6, 'thorough': 36, 'etl': 27, 'judgment': 15, 'factory': 10, 'siem': 6, '25%': 17, 'thermal': 6, 'stack': 17, 'write': 34, 'represents': 5, 'conceptual': 13, 'points': 10, 'view': 5, 'erfolgreich': 8, 'abgeschlossene': 7, 'fully': 7, 'sie': 34, 'jahre': 20, 'validation': 22, 'inter-personal': 8, 'contract': 33, 'communicating': 17, 'another': 6, 'supervise': 6, 'trends': 17, 'bonne': 17, 'multi-tasking': 14, 'time-management': 6, 'progressively': 5, 'point': 45, 'contact': 41, 'existing': 39, 'metrics': 35, 'implementations': 5, 'vary': 5, 'reporting,': 10, 'earned': 22, 'applicants': 18, 'form': 8, 'privacy': 7, 'acting': 9, 'roadmap': 14, '(both': 14, 'owners': 11, 'personnel': 12, 'work,': 6, 'cad': 23, 'partnerships': 6, 'dealing': 16, 'compensation': 6, 'campus': 6, 'ambitious,': 6, 'hardworking,': 6, 'sure': 7, 'introduction': 9, 'onshore': 5, 'los': 6, 'scope,': 9, 'est': 7, 'solving,': 28, 'coaching': 22, 'employees': 16, 'intermediate': 26, 'peer': 13, 'add': 9, 'techincal': 7, 'independent': 23, 'customers,': 14, 'products,': 17, 'inspections': 7, 'plans,': 11, 'sell': 7, 'ci/cd': 17, '.net': 21, 'asp.net': 8, 'convey': 16, 'protocols': 14, 'plan,': 11, 'questions': 7, 'git': 7, 'negotiates': 7, 'avionics': 29, 'valueexperience': 7, 'potential': 21, 'front': 13, 'line': 19, 'drives': 23, 'pressure': 17, 'bachelors/masters': 12, 'past': 6, 'hiring': 7, 'alignment': 16, 'day-to-day': 12, 'knowledge,': 18, 'deliverables': 13, 'license': 8, 'c,': 10, 'c++,': 8, 'commitment': 26, 'federal': 8, 'accountability': 15, 'nosql': 9, 'consulting': 65, 'quota': 8, 'carrying': 6, 'patterns': 11, 'gcp': 5, 'ai/ml': 6, 'dev': 5, 'abgeschlossenes': 6, 'studium': 7, 'approaches': 6, 'spoken': 44, 'peers,': 5, 'environmental': 18, 'concepts,': 14, 'forte': 5, 'adherence': 25, 'fault': 9, 'emphasis': 6, 'b': 19, 'proactively': 36, 'country': 8, 'frontend': 6, 'annual': 37, 'gestion': 13, 'workflows': 5, 'reliable': 10, 'investigate': 8, 'designs,': 29, '5-6': 11, 'methodology': 18, 'mysql': 5, 'less': 12, 'l': 5, 'vacuum': 5, 'object': 7, 'attitude': 38, 'embrace': 6, 'risk,': 5, 'b.': 24, 'json,': 5, 'xml,': 9, 'hse': 36, 'npi': 19, 'years,': 5, 'aftermarket': 6, 'oral,': 8, 'qualities': 7, 'dune': 9, 'recognized': 17, 'balance': 23, 'tactical': 9, 'bs/ba': 7, 'customer-facing': 7, 'available': 17, 'europe': 6, 'executes': 5, 'approval': 8, 'support,': 7, 'procure': 6, 'groups': 11, 'career': 25, 'improving': 13, 'focal': 16, 'knowledgeable': 21, 'cost,': 8, 'queries': 20, 'issue': 17, 'back': 6, 'years)': 15, 'urgency': 8, 'coordination,': 8, 'motor': 8, 'involves': 6, 'siop': 12, 'compliant': 10, 'compnces': 21, 'configuration,': 5, 'conducting': 16, 'presentations': 12, 'simulation': 24, '(e.g.': 18, 'mastery': 9, 'ba/bs': 16, 'general': 58, 'tracks': 7, 'circuit': 16, 'havehigh': 9, 'operator': 5, 'discuss': 7, 'relation': 5, 'guidance': 30, 'cover': 5, 'scheduled': 6, 'die': 29, 'highest': 6, 'determine': 14, 'scanning': 5, 'completion': 25, 'kaizen': 6, 'configuring': 19, 'emerging': 7, 'seven': 16, 'box': 9, 'efficiently': 5, 'assume': 5, 'qualifications:': 22, 'have5+': 9, 'repairs': 9, 'input': 17, 'correct': 6, 'medical': 9, 'administer': 7, 'verbal,': 17, 'buildings': 5, 'peoplesoft': 5, 'accept': 12, 'lieu': 10, 'valueknowledge': 7, 'coordinates': 20, 'regular': 38, '(green': 5, 'scope': 21, 'pricing': 38, 'champion': 18, 'assurance': 18, 'government': 23, 'p&l': 12, 'adaptable': 8, 'shifts': 12, 'warehousing': 11, 'experience/knowledge': 5, 'frameworks': 20, 'sme': 9, 'feature': 8, 'bij': 5, 'bezit': 7, 'prototypes': 6, 'r': 20, 'ein': 8, 'increase': 6, '(minimum': 5, 'real-time': 9, 'achieve': 33, 'acts': 12, 'addition': 6, 'pour': 18, 'vp': 10, 'initiate': 8, 'records': 10, 'inform': 6, 'management:': 10, 'german': 22, 'regulations': 6, 'producing': 9, 'long': 28, 'term': 20, 'mes': 9, 'shared': 5, 'collaborates': 9, 'mulesoft': 7, 'expence': 27, 'dod': 16, 'devsecops': 5, '(written': 19, 'comparable': 6, 'higher': 25, 'collaborative': 37, 'strategy,': 12, '(preferred)': 6, 'labor': 7, 'tier': 13, 'strong,': 6, 'vertical': 19, 'specification': 8, '3d': 19, 'data,': 16, 'vulnerability': 10, 'parts': 20, 'scaled': 8, 'greenbelt': 11, 'auditor': 7, 'journey': 5, 'paced': 13, 'escalation': 17, '-bachelors': 6, 'keep': 13, 'records,': 5, 'larger': 5, 'interesse': 9, 'right': 18, 'regarding': 8, 'managers,': 10, 'net,': 5, 'services,': 8, 'automate': 5, 'b.tech': 8, 'commissioning': 12, 'mca': 5, '1-year': 6, 'contracting': 5, 'aux': 7, 'install': 10, 'log': 8, 'collection': 9, 'claims,': 5, 'applied': 20, '24/7': 6, 'specialization': 8, 'english,': 16, 'collaboration,': 7, 'high-level': 9, 's.': 6, 'native': 24, 'fiber': 7, 'ip': 8, 'file': 5, 'poc': 5, 'academy': 6, 'plants': 5, 'wireless': 12, 'domaine': 10, 'simple': 9, 'sdlc': 25, 'aid': 8, 'order': 40, 'communication,': 56, 'uat': 8, 'contemporary': 13, 'bacnet,': 5, 'progress': 26, 'identify,': 14, 'builds': 7, 'assisting': 20, 'accurately': 10, 'variety': 39, 'involvement': 10, 'doors': 6, 'ongoing': 16, 'supervising': 8, 'acquisition': 7, 'recent': 11, 'bpo': 10, 'comprehension': 7, '(5+': 5, 'workload': 12, 'could': 5, 'true': 5, 'investment': 7, 'electronics,': 17, 'organizational,': 14, 'ebs': 7, 'retail': 18, 'non': 6, 'implements': 9, 'department': 9, 'optimizing': 5, 'integrity,': 5, 'procedures,': 5, 'fa': 5, 'opc': 5, 'stages': 7, 'umgang': 11, 'exceed': 11, 'pain': 5, 'englischkenntnisse': 7, 'departmental': 5, 'teams,': 10, 'mdm': 14, 'integration,': 9, 'purchasing': 17, 'kennis': 6, 'turbine': 8, 'processes,': 26, 'consumer': 6, 'grade': 8, 'recommends': 8, 'ans': 18, 'dexpence': 14, 'holder': 6, 'specifically': 8, 'give': 5, 'benefit': 5, 'mehrjige': 6, 'certification,': 11, 'plant': 21, 'buyer': 6, 'ui/ux': 5, 'innovation': 17, 'priority': 5, 'reviewing': 7, 'formation': 15, 'equivalent,': 5, 'pega': 18, 'analyzing,': 5, 'creating,': 5, 'maturity': 10, 'write,': 6, 'assurer': 6, '(1)': 9, 'facilitating': 6, 'pre-sales': 8, 'combined': 12, 'be/b.tech': 10, 'transportation': 10, 'helping': 9, 'firm': 10, 'negotiations': 5, 'academic': 11, 'billing': 10, 'large-scale': 8, 'on-call': 10, 'common': 19, 'roadmaps': 7, 'partnering': 9, 'preventive': 11, 'project,': 8, 'first': 15, 'queries,': 5, 'backup': 6, 'independently,': 9, 'supervisory': 15, 'editing': 7, 'zu': 11, 'according': 12, 'select': 5, 'follow-up': 7, 'scale': 16, 'open,': 5, 'collaborative,': 6, 'post-secondary': 8, 'hw': 9, 'care': 8, 'inbound': 7, 'sfdc': 20, 'applications,': 5, 'side': 5, 'purchased': 5, 'intelligent': 7, 'transactional': 7, 'supervisor': 18, 'have:': 8, 'interacts': 14, 'trouble': 6, 'satisfaction': 8, 'constantly': 7, 'create,': 6, 'pilot': 6, 'generation': 13, 'solidworks': 5, 'technically': 17, 'engine': 12, 'consultants': 7, 'technician': 18, 'saving': 5, 'thinks': 5, 'behavioral': 8, 'performed': 5, 'ad': 8, 'hoc': 6, 'hohes': 6, 'certification:': 9, 'ml': 7, 'ai': 7, 'xe2xaa': 5, 'initiative': 22, 'procedures': 18, 'audits': 17, 'email': 6, 'communication:': 5, '(at': 14, 'radiation': 6, 'discovery': 8, 'owner': 13, 'pmt': 14, 'precise': 5, 'compliance,': 5, 'inspection': 20, 'finding': 8, 'aligned': 8, 'availability': 18, 'emea': 6, 'maximum': 6, 'engaging': 8, 'onsite': 12, 'offshore': 15, 'prototyping': 6, 'multi-disciplined': 6, 'consistent': 10, 'climb': 7, 'service,': 13, 'throughout': 7, 'businesses': 5, 'informal': 5, 'rfq': 5, 'specifications': 10, 'admin': 12, 'talented': 8, 'along': 14, 'aop': 8, 'ph.d.': 12, 'polymer': 9, 'inertial': 6, 'calibration': 7, 'ready': 7, 'findings': 6, 'pricing,': 9, 'guide': 24, 'closing': 8, 'preference': 12, '-experience': 6, 'interacting': 15, '8,': 5, 'contribution': 5, 'forecast': 13, 'statutory': 5, 'pi': 5, 'e.g.': 10, 'lean/six': 6, 'app': 11, 'forensic': 7, 'algorithm': 5, 'event': 6, 'ambitious': 9, 'little': 12, 'recruiting': 10, 'stock': 7, 'third': 10, 'conocimiento': 10, 'structure': 7, 'several': 19, 'implementation,': 5, 'moderately': 5, 'architectures': 9, 'thinker,': 6, 'freight': 6, 'programmable': 7, 'logic': 10, 'robust': 25, 'recognition': 5, 'tools,': 26, 'b.e.': 5, 'software,': 11, 'manejo': 7, 'jaar': 5, 'case': 16, 'studies': 11, 'salesforce.com': 5, 'configure': 13, 'mathematical': 6, 'soldering': 10, 'breadth': 7, 'sops': 5, 'physics,': 8, 'costs': 5, 'clearance': 14, 'times,': 6, 'challenges': 6, 'escalate': 13, 'te': 7, 'chemistry,': 13, 'contributes': 10, 'look': 5, 'leveraging': 9, 'review,': 10, 'large,': 10, 'brand': 12, 'performance,': 8, 'inspire': 10, 'extract': 5, '7-10': 17, 'territory': 11, 'speak': 8, '0-2': 5, 'result': 15, 'hs&e': 7, 'confidently': 9, 'responses': 7, 'paas': 5, 'implement,': 8, 'dcs': 8, 'plc': 20, 'agency': 14, 'advance': 12, 'research,': 8, 'teaming': 9, '(verbal': 13, 'ideas': 17, 'assemble': 5, 'book': 7, 'analytics,': 8, 'presence': 9, 'chain,': 21, 'circuits': 5, 'smart': 12, 'metering': 5, 'industry,': 7, 'drawings,': 6, 'exhibit': 14, 'prioritization': 8, 'communications,': 14, 'carry': 18, 'administrator': 9, 'curiosity': 5, 'creative,': 12, 'purchase': 13, 'communicates': 17, 'north': 9, 'many': 6, 'customization': 5, 'crisis': 6, 'place': 9, 'scenarios': 7, 'auditing': 7, 'components': 16, 'dc': 6, 'oversees': 7, 'c.': 5, 'strict': 6, 'respect': 6, 'full-stack': 8, 'distributed': 11, 'structures': 5, 'self-directed': 11, 'targets': 16, 'pipeline': 16, 'access': 14, 'math,': 8, 'demonstrating': 12, 'bitbucket': 5, 'domestically': 8, 'keeping': 8, 'facilitates': 9, '9+': 11, '(ms': 6, 'way': 7, 'details': 6, 'majors': 6, 'include:': 13, 'coaching,': 7, 'alongside': 6, 'budget': 12, 'functionality': 5, 'location': 15, 'shipping': 10, 'receiving': 9, 'refine': 8, 'ad-hoc': 6, 'modelling': 7, 'negotiation,': 6, 'incident': 12, 'disciplines': 9, 'documenting': 5, 'inside': 5, 'completes': 6, 'center': 19, 'instruments': 6, '4-year': 7, 'educational': 5, 'developers': 17, 'foundation': 8, 'supervisors': 7, 'affinity': 6, 'cultural': 8, 'con': 11, 'para': 12, 'lifting': 6, 'customer-centric': 6, 'travel,': 5, 'energy,': 5, 'manufacturing,': 14, 'hire': 6, 'solides': 7, 'laboratory': 12, 'routinely': 7, 'j2ee': 7, 'facility': 7, 'rigorous': 6, 'have5': 7, 'hr,': 5, 'hcm': 9, 'solution,': 5, '(3)': 5, 'competency': 9, 'sustainable': 5, 'marketo': 5, 'skillset': 5, 'primarily': 9, 'thinking,': 13, 'maintenance,': 6, 'learner': 8, 'winning': 5, 'wort': 5, 'phases': 14, 'theory': 5, 'agencies': 6, 'valueexcellent': 5, 'considered': 6, 'chemistry': 7, 'facilities': 10, 'connect': 10, 'bias': 13, 'toward': 8, 'manages': 27, 'ways': 6, 'framework,': 6, 'kcnsc': 8, 'pharma': 9, 'evaluates': 11, 'cope': 7, 'demands': 6, 'ee,': 5, 'me,': 5, 'identification,': 5, 'excellente': 8, 'updates': 17, 'exercise': 8, 'visibility': 6, '1-3': 11, 'staffing': 7, 'learning,': 6, 'advantage': 6, 'tertiary': 13, 'search': 6, 'releases': 6, 'tactfully': 9, 'unique': 7, 'balancing': 7, 'device': 11, 'kansas': 7, 'city,': 7, 'mo***': 6, 'prepares': 17, 'programs,': 5, 'compelling': 5, 'directs': 7, 'multi': 9, 'technical/professional': 6, 'b.e': 5, 'os': 12, 'attributes': 6, 'environments': 8, 'integral': 7, 'area': 21, 'kinaxis': 11, '(oral': 5, 'committed': 8, 'refinery': 5, 'assessments': 8, 'safety,': 17, 'expertise,': 6, 'maise': 10, 'phone': 7, 'escalations': 6, 'activity': 7, 'devices': 6, 'analyzes': 8, 'genesys': 11, 'planung': 6, 'mssql': 5, 'enabling': 5, 'vba': 5, 'online': 11, 'stage': 7, 'computers': 7, 'transactions': 5, 'structuring': 5, 'abap': 6, 'experience-': 11, 'entrepreneurial': 12, 'votre': 5, 'language,': 5, 'connectivity': 5, 'aircraft': 14, 'amazon': 7, 'mitigate': 9, 'italian': 6, 'peers': 13, 'mature': 6, 'decision-making': 10, 'submit': 9, 'physics': 6, 'data-driven': 5, 'find': 9, 'sens': 6, 'asme': 5, 'drawing': 5, 'come': 8, 'suppliers,': 8, 'comfort': 5, 'pas': 5, '4-7': 7, 'player,': 11, 'influencing,': 7, 'com': 8, 'detail-oriented': 8, 'drawings': 10, 'direct,': 5, 'outside': 22, 'sourcing,': 6, 'pass': 13, 'effect': 5, 'managed': 9, 'koordination': 5, 'ansi': 7, 'follows': 7, 'loading': 5, 'backend': 9, 'tooling,': 5, 'sprint': 7, 'responsive': 10, 'check': 9, 'specialized': 10, '8-12': 11, 'um': 6, 'latest': 12, 'packaging': 7, 'conhecimento': 9, 'makes': 5, 'mind': 6, 'project/program': 9, 'citizen,': 11, 'participating': 9, 'architects': 11, 'practices,': 6, 'trust': 6, 'integrations': 7, 'led': 8, 'respective': 5, 'journalism,': 5, 'strap': 5, 'depth': 21, 'requirementsbachelors': 5, 'choose': 5, 'finonece': 5, 'partnership': 12, 'campaign': 10, 'dedicated': 5, 'policies': 8, 'gain': 15, '3-': 5, 'program/project': 8, 'techno-functional': 6, 'multi-disciplinary': 6, 'scripts,': 5, 'measuring': 6, 'teil': 5, 'concurrent': 5, 'estimation': 10, 'quality,': 8, 'written)': 5, 'supervises': 6, 'mix': 7, '(with': 5, 'programmatic': 6, '-ability': 5, 'valuedemonstrated': 8, 'nurture': 5, 'facets': 5, 'be/': 7, 'detection': 7, 'among': 13, 'mid': 7, 'bsc': 6, 'readiness': 5, 'ausgepre': 5, '*': 5, 'bringen': 6, 'aviation': 5, 'face': 6, 'cissp,': 8, 'technologies,': 9, 'varying': 13, 'switch': 5, 'nous': 5, 'mapping': 9, 'phase': 9, 'blend': 5, 'situations': 14, 'concept': 11, 'decisive': 5, 'trainings': 8, 'title': 5, 'open-minded': 5, 'floor': 5, 'things': 7, 'types': 5, 'met': 8, 'style': 9, 'navigate': 7, 'savings': 6, 'discipline': 12, 'considerable': 6, 'remediation': 6, 'identification': 12, 'study': 7, 'competencies': 5, 'android': 10, 'ios': 12, 'maintain,': 12, 'sla': 5, 'invoice': 7, 'l3': 7, 'prepared': 5, 'home': 7, 'upgrade': 6, 'rca': 5, 'strategically': 13, 'european': 8, 'tuning': 13, 'rapid': 13, 'requisitions': 5, 'allocation': 6, 'ci': 6, 'voice': 10, 'display': 8, 'cicd': 10, '6-9': 5, 'summary': 13, 'directory': 5, 'sale': 5, 'assertive': 7, 'experience;': 7, 'analytic': 6, 'adopt': 7, 'ideally,': 6, 'upgrades': 6, 'additionally,': 5, 'idea': 9, 'shell': 8, 'sheet': 5, 'brings': 5, 'see': 9, 'transfer': 5, 'programing': 6, 'ii': 5, 'listening,': 5, '(computer': 5, 'costing': 5, 'principal': 12, 'control,': 5, 'directing': 6, 'welding': 7, 'india': 8, 'suite,': 5, 'abreast': 6, 'strengthen': 5, 'prioritize,': 7, 'single': 7, '(mba': 5, 'qualification:': 16, 'valueadvanced': 5, 'das': 10, '13+': 6, 'co': 5, 'collect': 11, 'xml': 5, 'clarity': 5, 'propose': 13, 'hci': 5, 'developments': 6, 'conducts': 8, 'consensus': 7, 'atleast': 10, 'failure': 12, 'pay': 6, 'training,': 10, 'mati': 6, 'persuasive': 5, 'better': 7, 'ca': 7, 'microservices,': 6, 'six-sigma': 5, 'solutioning': 6, 'b.e/': 7, 'm.tech': 5, 'constant': 5, 'spark': 7, 'durchfung': 11, 'angular,': 5, 'react,': 5, 'assessment': 17, 'productive': 5, 'recognize': 5, 'agreed': 6, 'artifacts': 5, 'intelligence': 13, 'eu': 6, 'thinker': 11, 'sur': 13, 'sa': 6, 'diploma/ged': 5, 'authority': 10, 'habilidades': 6, 's/4': 8, 'presenting': 9, 'involving': 8, 'sources': 8, 'mise': 5, 'diversity': 5, 'promotes': 6, 'complying': 5, 'sophisticated': 5, 'rotating': 7, 'certifications,': 5, 'making,': 5, 'aware': 10, 'limited': 19, 'relative': 6, 'monitor,': 5, 'soc': 5, 'have3+': 5, 'craft': 5, 'organizations': 5, 'speak,': 5, 'pursue': 5, 'clients,': 5, 'upon': 7, 'moving': 5, 'se': 5, 'patching': 7, 'reconciliation': 5, 'hs': 5, 'c#,': 8, 'printed': 6, 'messaging': 7, 'sets': 6, 'ter': 6, 'leads,': 5, 'mrp/erp': 5, 'oracle,': 6, 'travel:': 9, '6-10': 5, 'driver': 7, 'versioning': 7, 'evaluating': 6, 'conocimientos': 6, 'personality': 5, 'semiconductor': 5, 'kpis': 8, 'confident,': 7, 'sessions': 6, 'rtos': 7, 'batch': 5, 'pharmaceutical': 6, 'desk': 9, 'lessons': 5, 'hps': 7, 'administering': 5, 'colleagues': 7, 'trends,': 5, 'articles': 6, 'digital,': 5, 'analog,': 5, 'student': 5, 'units': 6, 'markets': 7, 'dashboard': 5, 'hungarian': 5, '1)': 5, 'materials,': 9, 'global,': 6, 'mandatory': 7, 'module': 7, 'iot.': 5, 'graduated': 5, 'commerce': 7, 'beyond': 5, 'responding': 5, '3)': 5, 'influential': 7, 'difficult': 5, 'agile/scrum': 5, 'hadoop': 9, 'activities,': 6, 'gb': 5, 'consolidate': 7, 'modeling,': 5, 'reduce': 6, 'size': 5, 'kafka': 5, 'math': 8, 'vision,': 5, 'serves': 7, 'fields': 8, 'valueextensive': 5, 'break': 5, '100%': 8, 'options': 5, '(4)': 6, 'asic': 6, 'networking,': 5, 'have6': 5, 'coe': 5, 'excellentes': 5, 'controlling': 5, 'valueability': 5, 'moderate': 5, 'raised': 5, 'offerings': 8, 'db': 5}\n"
     ]
    }
   ],
   "source": [
    "def word_counts(data_set) -> list:\n",
    "    words_in_tuple = dict()\n",
    "    text = data_set['New_Sentence']\n",
    "    text = text.to_string()\n",
    "    text = text.strip()\n",
    "    text = text.lower()\n",
    "    \n",
    "    words = [word for word in text.split(' ') if word not in sw_nltk]\n",
    "    \n",
    "    for word in words:\n",
    "        if word == ' ' or word.isnumeric() == True or len(word) == 0:\n",
    "            continue\n",
    "        if word in words_in_tuple:\n",
    "              words_in_tuple[word] = words_in_tuple[word] + 1\n",
    "        else:\n",
    "              words_in_tuple[word] = 1  \n",
    "    for key in list(words_in_tuple.keys()):  ## creates a list of all keys\n",
    "      if words_in_tuple[key] < 5:\n",
    "        del words_in_tuple[key] \n",
    "       \n",
    "    return (words_in_tuple)\n",
    "vocab = word_counts(train)\n",
    "print(vocab)\n",
    "# I have modified the existing code as per my need to get the required results. "
   ]
  },
  {
   "cell_type": "markdown",
   "id": "52fa1ecd",
   "metadata": {},
   "source": [
    "Conditional count of the words for every label "
   ]
  },
  {
   "cell_type": "markdown",
   "id": "5162f66f",
   "metadata": {},
   "source": [
    "Refrenece blog : https://taherparatha.wordpress.com/portfolio/classifying-news-articles-using-naive-bayes-classifier-from-scratch/"
   ]
  },
  {
   "cell_type": "code",
   "execution_count": 65,
   "id": "3f0f2dfc",
   "metadata": {},
   "outputs": [
    {
     "name": "stdout",
     "output_type": "stream",
     "text": [
      "           Responsibility  Requirement  Skill  SoftSkill  Education  \\\n",
      "review              336.0         18.0    8.0       10.0        0.0   \n",
      "documents           126.0         20.0    6.0        0.0        0.0   \n",
      "design              924.0        404.0  315.0      158.0       93.0   \n",
      "systems             540.0        554.0  306.0       58.0      210.0   \n",
      "technical           903.0        515.0  221.0      254.0      305.0   \n",
      "...                   ...          ...    ...        ...        ...   \n",
      "jaar                  0.0          0.0    0.0        0.0        0.0   \n",
      "heavy                 0.0          0.0    0.0        0.0        0.0   \n",
      "ado                   0.0          0.0    0.0        0.0        0.0   \n",
      "poste                 0.0          0.0    0.0        0.0        0.0   \n",
      "semi                  0.0          0.0    0.0        0.0        0.0   \n",
      "\n",
      "           Experience  \n",
      "review            6.0  \n",
      "documents         0.0  \n",
      "design          479.0  \n",
      "systems         425.0  \n",
      "technical       443.0  \n",
      "...               ...  \n",
      "jaar              6.0  \n",
      "heavy             7.0  \n",
      "ado               6.0  \n",
      "poste             6.0  \n",
      "semi              6.0  \n",
      "\n",
      "[3909 rows x 6 columns]\n"
     ]
    }
   ],
   "source": [
    "import re\n",
    "Types = df['Type'].unique()\n",
    "def conditional_count_values(dataset,label):  \n",
    "  word_count = {}\n",
    "  for typ in Types:\n",
    "    word_dict = {}\n",
    "    data = df[df[label] == typ]['New_Sentence']\n",
    "    for row in data:\n",
    "      words = list(set(re.split(\"[^a-zA-Z]\",str(row))))\n",
    "      for word in words:\n",
    "        word = word.lower()\n",
    "        if word in word_dict:\n",
    "          word_dict[word] = word_dict[word]+1\n",
    "        else:\n",
    "          word_dict[word] = 1\n",
    "    for word, count in dict(word_dict).items():\n",
    "      if (len(word)<3) or (count<=5):\n",
    "        word_dict.pop(word)\n",
    "    word_count[typ] = word_dict\n",
    "  \n",
    "  return pd.DataFrame(word_count).fillna(0)\n",
    "\n",
    "print(conditional_count_values(train,\"Type\"))"
   ]
  },
  {
   "cell_type": "markdown",
   "id": "0f17a833",
   "metadata": {},
   "source": [
    "Function to returns the probability of the word with total number of docs."
   ]
  },
  {
   "cell_type": "code",
   "execution_count": 66,
   "id": "091520d1",
   "metadata": {},
   "outputs": [],
   "source": [
    "def probability_of_word_in_all_documents(dataset,word_given,smoothing):\n",
    "  return((word_counts(dataset)[word_given] + smoothing )/(len(dataset) + (len(dataset['Type'].unique()) * smoothing)))"
   ]
  },
  {
   "cell_type": "markdown",
   "id": "be2929d8",
   "metadata": {},
   "source": [
    "Conditional probability value"
   ]
  },
  {
   "cell_type": "code",
   "execution_count": 67,
   "id": "ae97882f",
   "metadata": {},
   "outputs": [],
   "source": [
    "def conditional_probability(dataset,word,category,smoothing):\n",
    "  conditional_value_dataframe = conditional_count_values(train,'Type')\n",
    "  probability_value = (conditional_value_dataframe.loc[word,category])*smoothing / ((conditional_value_dataframe[category].sum()) + (smoothing * len(conditional_value_dataframe[category])))\n",
    "  return probability_value"
   ]
  },
  {
   "cell_type": "markdown",
   "id": "ffda7a4d",
   "metadata": {},
   "source": [
    "Probability of every class label"
   ]
  },
  {
   "cell_type": "code",
   "execution_count": 68,
   "id": "49c3d351",
   "metadata": {},
   "outputs": [],
   "source": [
    "def count_probability_class(category_set):\n",
    "  result_probabilty = train.groupby('Type').size().div(len(train)) #count()['category']/len(category)\n",
    "  return(result_probabilty)"
   ]
  },
  {
   "cell_type": "code",
   "execution_count": 69,
   "id": "d5593ca0",
   "metadata": {},
   "outputs": [
    {
     "data": {
      "image/png": "[encoded data removed]",
      "text/plain": [
       "<Figure size 1008x576 with 1 Axes>"
      ]
     },
     "metadata": {
      "needs_background": "light"
     },
     "output_type": "display_data"
    }
   ],
   "source": [
    "result_probabilty = train.groupby('Type').size().div(len(train)) #count()['category']/len(category)\n",
    "plt.figure(figsize=(14,8))\n",
    "sns.barplot(x=result_probabilty.index, y=result_probabilty)\n",
    "plt.xlabel('Category')\n",
    "plt.ylabel('Probabilities')\n",
    "plt.show()"
   ]
  },
  {
   "cell_type": "markdown",
   "id": "59fc4b6e",
   "metadata": {},
   "source": [
    "Function to calculate the Naive Bayes probability."
   ]
  },
  {
   "cell_type": "code",
   "execution_count": 21,
   "id": "e96d4f4e",
   "metadata": {},
   "outputs": [],
   "source": [
    "def nb_probability(word,data,category,smoothing):\n",
    "  final_prob = conditional_probability(data,word,category,smoothing) * count_probability_class(train)\n",
    "  print(final_prob[category])\n",
    "  return final_prob[category]"
   ]
  },
  {
   "cell_type": "markdown",
   "id": "b3f49a25",
   "metadata": {},
   "source": [
    "# TRAINING THE DATASET."
   ]
  },
  {
   "cell_type": "code",
   "execution_count": 70,
   "id": "eb908b61",
   "metadata": {},
   "outputs": [
    {
     "data": {
      "text/html": [
       "<div>\n",
       "<style scoped>\n",
       "    .dataframe tbody tr th:only-of-type {\n",
       "        vertical-align: middle;\n",
       "    }\n",
       "\n",
       "    .dataframe tbody tr th {\n",
       "        vertical-align: top;\n",
       "    }\n",
       "\n",
       "    .dataframe thead th {\n",
       "        text-align: right;\n",
       "    }\n",
       "</style>\n",
       "<table border=\"1\" class=\"dataframe\">\n",
       "  <thead>\n",
       "    <tr style=\"text-align: right;\">\n",
       "      <th></th>\n",
       "      <th>Responsibility</th>\n",
       "      <th>Requirement</th>\n",
       "      <th>Skill</th>\n",
       "      <th>SoftSkill</th>\n",
       "      <th>Education</th>\n",
       "      <th>Experience</th>\n",
       "    </tr>\n",
       "  </thead>\n",
       "  <tbody>\n",
       "    <tr>\n",
       "      <th>review</th>\n",
       "      <td>336.0</td>\n",
       "      <td>18.0</td>\n",
       "      <td>8.0</td>\n",
       "      <td>10.0</td>\n",
       "      <td>0.0</td>\n",
       "      <td>6.0</td>\n",
       "    </tr>\n",
       "    <tr>\n",
       "      <th>documents</th>\n",
       "      <td>126.0</td>\n",
       "      <td>20.0</td>\n",
       "      <td>6.0</td>\n",
       "      <td>0.0</td>\n",
       "      <td>0.0</td>\n",
       "      <td>0.0</td>\n",
       "    </tr>\n",
       "    <tr>\n",
       "      <th>design</th>\n",
       "      <td>924.0</td>\n",
       "      <td>404.0</td>\n",
       "      <td>315.0</td>\n",
       "      <td>158.0</td>\n",
       "      <td>93.0</td>\n",
       "      <td>479.0</td>\n",
       "    </tr>\n",
       "    <tr>\n",
       "      <th>systems</th>\n",
       "      <td>540.0</td>\n",
       "      <td>554.0</td>\n",
       "      <td>306.0</td>\n",
       "      <td>58.0</td>\n",
       "      <td>210.0</td>\n",
       "      <td>425.0</td>\n",
       "    </tr>\n",
       "    <tr>\n",
       "      <th>technical</th>\n",
       "      <td>903.0</td>\n",
       "      <td>515.0</td>\n",
       "      <td>221.0</td>\n",
       "      <td>254.0</td>\n",
       "      <td>305.0</td>\n",
       "      <td>443.0</td>\n",
       "    </tr>\n",
       "    <tr>\n",
       "      <th>...</th>\n",
       "      <td>...</td>\n",
       "      <td>...</td>\n",
       "      <td>...</td>\n",
       "      <td>...</td>\n",
       "      <td>...</td>\n",
       "      <td>...</td>\n",
       "    </tr>\n",
       "    <tr>\n",
       "      <th>jaar</th>\n",
       "      <td>0.0</td>\n",
       "      <td>0.0</td>\n",
       "      <td>0.0</td>\n",
       "      <td>0.0</td>\n",
       "      <td>0.0</td>\n",
       "      <td>6.0</td>\n",
       "    </tr>\n",
       "    <tr>\n",
       "      <th>heavy</th>\n",
       "      <td>0.0</td>\n",
       "      <td>0.0</td>\n",
       "      <td>0.0</td>\n",
       "      <td>0.0</td>\n",
       "      <td>0.0</td>\n",
       "      <td>7.0</td>\n",
       "    </tr>\n",
       "    <tr>\n",
       "      <th>ado</th>\n",
       "      <td>0.0</td>\n",
       "      <td>0.0</td>\n",
       "      <td>0.0</td>\n",
       "      <td>0.0</td>\n",
       "      <td>0.0</td>\n",
       "      <td>6.0</td>\n",
       "    </tr>\n",
       "    <tr>\n",
       "      <th>poste</th>\n",
       "      <td>0.0</td>\n",
       "      <td>0.0</td>\n",
       "      <td>0.0</td>\n",
       "      <td>0.0</td>\n",
       "      <td>0.0</td>\n",
       "      <td>6.0</td>\n",
       "    </tr>\n",
       "    <tr>\n",
       "      <th>semi</th>\n",
       "      <td>0.0</td>\n",
       "      <td>0.0</td>\n",
       "      <td>0.0</td>\n",
       "      <td>0.0</td>\n",
       "      <td>0.0</td>\n",
       "      <td>6.0</td>\n",
       "    </tr>\n",
       "  </tbody>\n",
       "</table>\n",
       "<p>3909 rows × 6 columns</p>\n",
       "</div>"
      ],
      "text/plain": [
       "           Responsibility  Requirement  Skill  SoftSkill  Education  \\\n",
       "review              336.0         18.0    8.0       10.0        0.0   \n",
       "documents           126.0         20.0    6.0        0.0        0.0   \n",
       "design              924.0        404.0  315.0      158.0       93.0   \n",
       "systems             540.0        554.0  306.0       58.0      210.0   \n",
       "technical           903.0        515.0  221.0      254.0      305.0   \n",
       "...                   ...          ...    ...        ...        ...   \n",
       "jaar                  0.0          0.0    0.0        0.0        0.0   \n",
       "heavy                 0.0          0.0    0.0        0.0        0.0   \n",
       "ado                   0.0          0.0    0.0        0.0        0.0   \n",
       "poste                 0.0          0.0    0.0        0.0        0.0   \n",
       "semi                  0.0          0.0    0.0        0.0        0.0   \n",
       "\n",
       "           Experience  \n",
       "review            6.0  \n",
       "documents         0.0  \n",
       "design          479.0  \n",
       "systems         425.0  \n",
       "technical       443.0  \n",
       "...               ...  \n",
       "jaar              6.0  \n",
       "heavy             7.0  \n",
       "ado               6.0  \n",
       "poste             6.0  \n",
       "semi              6.0  \n",
       "\n",
       "[3909 rows x 6 columns]"
      ]
     },
     "execution_count": 70,
     "metadata": {},
     "output_type": "execute_result"
    }
   ],
   "source": [
    "vocab_train = word_counts(train)\n",
    "cond_words_train = conditional_count_values(train,'Type')\n",
    "cond_words_train.dropna()"
   ]
  },
  {
   "cell_type": "markdown",
   "id": "fb4b5dfe",
   "metadata": {},
   "source": [
    "Finding the probability of the word “teams“."
   ]
  },
  {
   "cell_type": "code",
   "execution_count": 23,
   "id": "b863d2b9",
   "metadata": {},
   "outputs": [
    {
     "data": {
      "text/plain": [
       "0.00539441353404694"
      ]
     },
     "execution_count": 23,
     "metadata": {},
     "output_type": "execute_result"
    }
   ],
   "source": [
    "probability_of_word_in_all_documents(train,\"teams\",1)  "
   ]
  },
  {
   "cell_type": "markdown",
   "id": "f78ed759",
   "metadata": {},
   "source": [
    "Calculating the Naive Bayes probability of the word “teams” across every category\n",
    "\n"
   ]
  },
  {
   "cell_type": "code",
   "execution_count": 24,
   "id": "4e07b892",
   "metadata": {},
   "outputs": [
    {
     "name": "stdout",
     "output_type": "stream",
     "text": [
      "9.344851661833277e-05\n",
      "9.344851661833277e-05\n",
      "2.801254956607816e-05\n",
      "2.801254956607816e-05\n",
      "6.391339453349277e-05\n",
      "6.391339453349277e-05\n",
      "6.807750974673483e-05\n",
      "6.807750974673483e-05\n",
      "4.240273507013381e-06\n",
      "4.240273507013381e-06\n",
      "1.349620171532188e-05\n",
      "1.349620171532188e-05\n"
     ]
    }
   ],
   "source": [
    "class_train_probability = count_probability_class(train)\n",
    "for i in train['Type'].unique():\n",
    "  print(nb_probability(\"teams\",train,i,0.1))"
   ]
  },
  {
   "cell_type": "markdown",
   "id": "3f96cced",
   "metadata": {},
   "source": [
    "# TESTING THE DATASET."
   ]
  },
  {
   "cell_type": "code",
   "execution_count": 71,
   "id": "8cb2fa05",
   "metadata": {},
   "outputs": [
    {
     "data": {
      "text/html": [
       "<div>\n",
       "<style scoped>\n",
       "    .dataframe tbody tr th:only-of-type {\n",
       "        vertical-align: middle;\n",
       "    }\n",
       "\n",
       "    .dataframe tbody tr th {\n",
       "        vertical-align: top;\n",
       "    }\n",
       "\n",
       "    .dataframe thead th {\n",
       "        text-align: right;\n",
       "    }\n",
       "</style>\n",
       "<table border=\"1\" class=\"dataframe\">\n",
       "  <thead>\n",
       "    <tr style=\"text-align: right;\">\n",
       "      <th></th>\n",
       "      <th>Responsibility</th>\n",
       "      <th>Requirement</th>\n",
       "      <th>Skill</th>\n",
       "      <th>SoftSkill</th>\n",
       "      <th>Education</th>\n",
       "      <th>Experience</th>\n",
       "    </tr>\n",
       "  </thead>\n",
       "  <tbody>\n",
       "    <tr>\n",
       "      <th>review</th>\n",
       "      <td>336.0</td>\n",
       "      <td>18.0</td>\n",
       "      <td>8.0</td>\n",
       "      <td>10.0</td>\n",
       "      <td>0.0</td>\n",
       "      <td>6.0</td>\n",
       "    </tr>\n",
       "    <tr>\n",
       "      <th>documents</th>\n",
       "      <td>126.0</td>\n",
       "      <td>20.0</td>\n",
       "      <td>6.0</td>\n",
       "      <td>0.0</td>\n",
       "      <td>0.0</td>\n",
       "      <td>0.0</td>\n",
       "    </tr>\n",
       "    <tr>\n",
       "      <th>design</th>\n",
       "      <td>924.0</td>\n",
       "      <td>404.0</td>\n",
       "      <td>315.0</td>\n",
       "      <td>158.0</td>\n",
       "      <td>93.0</td>\n",
       "      <td>479.0</td>\n",
       "    </tr>\n",
       "    <tr>\n",
       "      <th>systems</th>\n",
       "      <td>540.0</td>\n",
       "      <td>554.0</td>\n",
       "      <td>306.0</td>\n",
       "      <td>58.0</td>\n",
       "      <td>210.0</td>\n",
       "      <td>425.0</td>\n",
       "    </tr>\n",
       "    <tr>\n",
       "      <th>technical</th>\n",
       "      <td>903.0</td>\n",
       "      <td>515.0</td>\n",
       "      <td>221.0</td>\n",
       "      <td>254.0</td>\n",
       "      <td>305.0</td>\n",
       "      <td>443.0</td>\n",
       "    </tr>\n",
       "    <tr>\n",
       "      <th>...</th>\n",
       "      <td>...</td>\n",
       "      <td>...</td>\n",
       "      <td>...</td>\n",
       "      <td>...</td>\n",
       "      <td>...</td>\n",
       "      <td>...</td>\n",
       "    </tr>\n",
       "    <tr>\n",
       "      <th>jaar</th>\n",
       "      <td>0.0</td>\n",
       "      <td>0.0</td>\n",
       "      <td>0.0</td>\n",
       "      <td>0.0</td>\n",
       "      <td>0.0</td>\n",
       "      <td>6.0</td>\n",
       "    </tr>\n",
       "    <tr>\n",
       "      <th>heavy</th>\n",
       "      <td>0.0</td>\n",
       "      <td>0.0</td>\n",
       "      <td>0.0</td>\n",
       "      <td>0.0</td>\n",
       "      <td>0.0</td>\n",
       "      <td>7.0</td>\n",
       "    </tr>\n",
       "    <tr>\n",
       "      <th>ado</th>\n",
       "      <td>0.0</td>\n",
       "      <td>0.0</td>\n",
       "      <td>0.0</td>\n",
       "      <td>0.0</td>\n",
       "      <td>0.0</td>\n",
       "      <td>6.0</td>\n",
       "    </tr>\n",
       "    <tr>\n",
       "      <th>poste</th>\n",
       "      <td>0.0</td>\n",
       "      <td>0.0</td>\n",
       "      <td>0.0</td>\n",
       "      <td>0.0</td>\n",
       "      <td>0.0</td>\n",
       "      <td>6.0</td>\n",
       "    </tr>\n",
       "    <tr>\n",
       "      <th>semi</th>\n",
       "      <td>0.0</td>\n",
       "      <td>0.0</td>\n",
       "      <td>0.0</td>\n",
       "      <td>0.0</td>\n",
       "      <td>0.0</td>\n",
       "      <td>6.0</td>\n",
       "    </tr>\n",
       "  </tbody>\n",
       "</table>\n",
       "<p>3909 rows × 6 columns</p>\n",
       "</div>"
      ],
      "text/plain": [
       "           Responsibility  Requirement  Skill  SoftSkill  Education  \\\n",
       "review              336.0         18.0    8.0       10.0        0.0   \n",
       "documents           126.0         20.0    6.0        0.0        0.0   \n",
       "design              924.0        404.0  315.0      158.0       93.0   \n",
       "systems             540.0        554.0  306.0       58.0      210.0   \n",
       "technical           903.0        515.0  221.0      254.0      305.0   \n",
       "...                   ...          ...    ...        ...        ...   \n",
       "jaar                  0.0          0.0    0.0        0.0        0.0   \n",
       "heavy                 0.0          0.0    0.0        0.0        0.0   \n",
       "ado                   0.0          0.0    0.0        0.0        0.0   \n",
       "poste                 0.0          0.0    0.0        0.0        0.0   \n",
       "semi                  0.0          0.0    0.0        0.0        0.0   \n",
       "\n",
       "           Experience  \n",
       "review            6.0  \n",
       "documents         0.0  \n",
       "design          479.0  \n",
       "systems         425.0  \n",
       "technical       443.0  \n",
       "...               ...  \n",
       "jaar              6.0  \n",
       "heavy             7.0  \n",
       "ado               6.0  \n",
       "poste             6.0  \n",
       "semi              6.0  \n",
       "\n",
       "[3909 rows x 6 columns]"
      ]
     },
     "execution_count": 71,
     "metadata": {},
     "output_type": "execute_result"
    }
   ],
   "source": [
    "vocab_test = word_counts(test)\n",
    "cond_words_test = conditional_count_values(test,'Type')\n",
    "cond_words_test.dropna()"
   ]
  },
  {
   "cell_type": "code",
   "execution_count": 26,
   "id": "9b268066",
   "metadata": {},
   "outputs": [
    {
     "data": {
      "text/plain": [
       "Type\n",
       "Education         0.077512\n",
       "Experience        0.155278\n",
       "Requirement       0.233044\n",
       "Responsibility    0.258241\n",
       "Skill             0.116889\n",
       "SoftSkill         0.159035\n",
       "dtype: float64"
      ]
     },
     "execution_count": 26,
     "metadata": {},
     "output_type": "execute_result"
    }
   ],
   "source": [
    "class_test_probability = count_probability_class(test)\n",
    "class_test_probability"
   ]
  },
  {
   "cell_type": "code",
   "execution_count": 27,
   "id": "1f8e6cca",
   "metadata": {},
   "outputs": [
    {
     "name": "stdout",
     "output_type": "stream",
     "text": [
      "9.344851661833277e-05\n",
      "9.344851661833277e-05\n",
      "6.807750974673483e-05\n",
      "6.807750974673483e-05\n",
      "2.801254956607816e-05\n",
      "2.801254956607816e-05\n",
      "6.391339453349277e-05\n",
      "6.391339453349277e-05\n",
      "1.349620171532188e-05\n",
      "1.349620171532188e-05\n",
      "4.240273507013381e-06\n",
      "4.240273507013381e-06\n"
     ]
    }
   ],
   "source": [
    "for i in test['Type'].unique():\n",
    "  print(nb_probability(\"teams\",test,i,0.1)) "
   ]
  }
 ],
 "metadata": {
  "kernelspec": {
   "display_name": "Python 3 (ipykernel)",
   "language": "python",
   "name": "python3"
  },
  "language_info": {
   "codemirror_mode": {
    "name": "ipython",
    "version": 3
   },
   "file_extension": ".py",
   "mimetype": "text/x-python",
   "name": "python",
   "nbconvert_exporter": "python",
   "pygments_lexer": "ipython3",
   "version": "3.9.12"
  }
 },
 "nbformat": 4,
 "nbformat_minor": 5
}
