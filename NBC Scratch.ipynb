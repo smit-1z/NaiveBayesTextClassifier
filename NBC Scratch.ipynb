{
 "cells": [
  {
   "cell_type": "code",
   "execution_count": 1,
   "id": "9042eb52",
   "metadata": {},
   "outputs": [],
   "source": [
    "import os\n",
    "import numpy as np\n",
    "import pandas as pd\n",
    "import matplotlib.pyplot as plt\n",
    "import seaborn as sns\n",
    "import nltk\n",
    "from nltk.corpus import stopwords"
   ]
  },
  {
   "cell_type": "markdown",
   "id": "bf7731d2",
   "metadata": {},
   "source": [
    "Merging two datasets into one master dataset. "
   ]
  },
  {
   "cell_type": "code",
   "execution_count": 2,
   "id": "93aba6cb",
   "metadata": {},
   "outputs": [],
   "source": [
    "df1 = pd.read_csv('train_data.csv')\n",
    "df2 = pd.read_csv('test_data.csv')\n",
    "df = pd.concat([df1, df2])"
   ]
  },
  {
   "cell_type": "code",
   "execution_count": 3,
   "id": "74d729ce",
   "metadata": {},
   "outputs": [
    {
     "data": {
      "text/html": [
       "<div>\n",
       "<style scoped>\n",
       "    .dataframe tbody tr th:only-of-type {\n",
       "        vertical-align: middle;\n",
       "    }\n",
       "\n",
       "    .dataframe tbody tr th {\n",
       "        vertical-align: top;\n",
       "    }\n",
       "\n",
       "    .dataframe thead th {\n",
       "        text-align: right;\n",
       "    }\n",
       "</style>\n",
       "<table border=\"1\" class=\"dataframe\">\n",
       "  <thead>\n",
       "    <tr style=\"text-align: right;\">\n",
       "      <th></th>\n",
       "      <th>Unnamed: 0</th>\n",
       "      <th>Sentence_id</th>\n",
       "      <th>New_Sentence</th>\n",
       "      <th>Type</th>\n",
       "    </tr>\n",
       "  </thead>\n",
       "  <tbody>\n",
       "    <tr>\n",
       "      <th>0</th>\n",
       "      <td>0</td>\n",
       "      <td>GERRES15609</td>\n",
       "      <td>Author and/or Review architecture/design and o...</td>\n",
       "      <td>Responsibility</td>\n",
       "    </tr>\n",
       "    <tr>\n",
       "      <th>1</th>\n",
       "      <td>1</td>\n",
       "      <td>PHERES15784</td>\n",
       "      <td>Should be able to develop custom dynamic shape...</td>\n",
       "      <td>Responsibility</td>\n",
       "    </tr>\n",
       "    <tr>\n",
       "      <th>2</th>\n",
       "      <td>2</td>\n",
       "      <td>GERREQ10457</td>\n",
       "      <td>Experience in working crosslly with a  larger ...</td>\n",
       "      <td>Requirement</td>\n",
       "    </tr>\n",
       "    <tr>\n",
       "      <th>3</th>\n",
       "      <td>3</td>\n",
       "      <td>GERSKL27235</td>\n",
       "      <td>Previous business experience, including but no...</td>\n",
       "      <td>Skill</td>\n",
       "    </tr>\n",
       "    <tr>\n",
       "      <th>4</th>\n",
       "      <td>4</td>\n",
       "      <td>HONSSK18415</td>\n",
       "      <td>Delivering fast and right the first  time.</td>\n",
       "      <td>SoftSkill</td>\n",
       "    </tr>\n",
       "    <tr>\n",
       "      <th>5</th>\n",
       "      <td>5</td>\n",
       "      <td>INDRES9494</td>\n",
       "      <td>Track  department expenses and capital budget .</td>\n",
       "      <td>Responsibility</td>\n",
       "    </tr>\n",
       "    <tr>\n",
       "      <th>6</th>\n",
       "      <td>6</td>\n",
       "      <td>HONRES51852</td>\n",
       "      <td>Meet  performance metrics.</td>\n",
       "      <td>Responsibility</td>\n",
       "    </tr>\n",
       "    <tr>\n",
       "      <th>7</th>\n",
       "      <td>7</td>\n",
       "      <td>UAEREQ34683</td>\n",
       "      <td>YOU MUST HAVEBachelors degree  in Engineering.</td>\n",
       "      <td>Requirement</td>\n",
       "    </tr>\n",
       "    <tr>\n",
       "      <th>8</th>\n",
       "      <td>8</td>\n",
       "      <td>UAEREQ4612</td>\n",
       "      <td>After COVID-19: Ability to travel to manufactu...</td>\n",
       "      <td>Requirement</td>\n",
       "    </tr>\n",
       "    <tr>\n",
       "      <th>9</th>\n",
       "      <td>9</td>\n",
       "      <td>INDEDU42721</td>\n",
       "      <td>Six Sigma qualification to  at least Green Bel...</td>\n",
       "      <td>Education</td>\n",
       "    </tr>\n",
       "  </tbody>\n",
       "</table>\n",
       "</div>"
      ],
      "text/plain": [
       "   Unnamed: 0  Sentence_id                                       New_Sentence  \\\n",
       "0           0  GERRES15609  Author and/or Review architecture/design and o...   \n",
       "1           1  PHERES15784  Should be able to develop custom dynamic shape...   \n",
       "2           2  GERREQ10457  Experience in working crosslly with a  larger ...   \n",
       "3           3  GERSKL27235  Previous business experience, including but no...   \n",
       "4           4  HONSSK18415         Delivering fast and right the first  time.   \n",
       "5           5   INDRES9494    Track  department expenses and capital budget .   \n",
       "6           6  HONRES51852                         Meet  performance metrics.   \n",
       "7           7  UAEREQ34683     YOU MUST HAVEBachelors degree  in Engineering.   \n",
       "8           8   UAEREQ4612  After COVID-19: Ability to travel to manufactu...   \n",
       "9           9  INDEDU42721  Six Sigma qualification to  at least Green Bel...   \n",
       "\n",
       "             Type  \n",
       "0  Responsibility  \n",
       "1  Responsibility  \n",
       "2     Requirement  \n",
       "3           Skill  \n",
       "4       SoftSkill  \n",
       "5  Responsibility  \n",
       "6  Responsibility  \n",
       "7     Requirement  \n",
       "8     Requirement  \n",
       "9       Education  "
      ]
     },
     "execution_count": 3,
     "metadata": {},
     "output_type": "execute_result"
    }
   ],
   "source": [
    "df.head(10)"
   ]
  },
  {
   "cell_type": "code",
   "execution_count": 4,
   "id": "46b5bb8d",
   "metadata": {},
   "outputs": [
    {
     "data": {
      "text/html": [
       "<div>\n",
       "<style scoped>\n",
       "    .dataframe tbody tr th:only-of-type {\n",
       "        vertical-align: middle;\n",
       "    }\n",
       "\n",
       "    .dataframe tbody tr th {\n",
       "        vertical-align: top;\n",
       "    }\n",
       "\n",
       "    .dataframe thead th {\n",
       "        text-align: right;\n",
       "    }\n",
       "</style>\n",
       "<table border=\"1\" class=\"dataframe\">\n",
       "  <thead>\n",
       "    <tr style=\"text-align: right;\">\n",
       "      <th></th>\n",
       "      <th>Unnamed: 0</th>\n",
       "    </tr>\n",
       "  </thead>\n",
       "  <tbody>\n",
       "    <tr>\n",
       "      <th>count</th>\n",
       "      <td>75144.000000</td>\n",
       "    </tr>\n",
       "    <tr>\n",
       "      <th>mean</th>\n",
       "      <td>25548.340001</td>\n",
       "    </tr>\n",
       "    <tr>\n",
       "      <th>std</th>\n",
       "      <td>18055.461497</td>\n",
       "    </tr>\n",
       "    <tr>\n",
       "      <th>min</th>\n",
       "      <td>0.000000</td>\n",
       "    </tr>\n",
       "    <tr>\n",
       "      <th>25%</th>\n",
       "      <td>9392.750000</td>\n",
       "    </tr>\n",
       "    <tr>\n",
       "      <th>50%</th>\n",
       "      <td>22542.500000</td>\n",
       "    </tr>\n",
       "    <tr>\n",
       "      <th>75%</th>\n",
       "      <td>41328.250000</td>\n",
       "    </tr>\n",
       "    <tr>\n",
       "      <th>max</th>\n",
       "      <td>60114.000000</td>\n",
       "    </tr>\n",
       "  </tbody>\n",
       "</table>\n",
       "</div>"
      ],
      "text/plain": [
       "         Unnamed: 0\n",
       "count  75144.000000\n",
       "mean   25548.340001\n",
       "std    18055.461497\n",
       "min        0.000000\n",
       "25%     9392.750000\n",
       "50%    22542.500000\n",
       "75%    41328.250000\n",
       "max    60114.000000"
      ]
     },
     "execution_count": 4,
     "metadata": {},
     "output_type": "execute_result"
    }
   ],
   "source": [
    "df.describe()"
   ]
  },
  {
   "cell_type": "markdown",
   "id": "a9f8573e",
   "metadata": {},
   "source": [
    "Number of tuples per each type"
   ]
  },
  {
   "cell_type": "code",
   "execution_count": 5,
   "id": "81da8216",
   "metadata": {},
   "outputs": [
    {
     "data": {
      "text/plain": [
       "Unnamed: 0          0\n",
       "Sentence_id         0\n",
       "New_Sentence     1394\n",
       "Type            15029\n",
       "dtype: int64"
      ]
     },
     "execution_count": 5,
     "metadata": {},
     "output_type": "execute_result"
    }
   ],
   "source": [
    "df.isna().sum()"
   ]
  },
  {
   "cell_type": "code",
   "execution_count": 6,
   "id": "c13029e9",
   "metadata": {},
   "outputs": [],
   "source": [
    "df = df.dropna( how='any',subset=['Type','New_Sentence'])"
   ]
  },
  {
   "cell_type": "code",
   "execution_count": 7,
   "id": "bf7badd0",
   "metadata": {},
   "outputs": [
    {
     "data": {
      "text/plain": [
       "Unnamed: 0      0\n",
       "Sentence_id     0\n",
       "New_Sentence    0\n",
       "Type            0\n",
       "dtype: int64"
      ]
     },
     "execution_count": 7,
     "metadata": {},
     "output_type": "execute_result"
    }
   ],
   "source": [
    "df.isna().sum()"
   ]
  },
  {
   "cell_type": "code",
   "execution_count": 8,
   "id": "97952f64",
   "metadata": {},
   "outputs": [
    {
     "data": {
      "text/plain": [
       "Text(0, 0.5, 'Count')"
      ]
     },
     "execution_count": 8,
     "metadata": {},
     "output_type": "execute_result"
    },
    {
     "data": {
      "image/png": "[encoded data removed]",
      "text/plain": [
       "<Figure size 864x576 with 1 Axes>"
      ]
     },
     "metadata": {
      "needs_background": "light"
     },
     "output_type": "display_data"
    }
   ],
   "source": [
    "plt.figure(figsize=(12,8))\n",
    "count = df.Type.value_counts()\n",
    "sns.barplot(x=count.index, y=count)\n",
    "plt.xlabel('Type')\n",
    "plt.ylabel('Count')"
   ]
  },
  {
   "cell_type": "markdown",
   "id": "b2770d3b",
   "metadata": {},
   "source": [
    "Splitting data into train validation test."
   ]
  },
  {
   "cell_type": "code",
   "execution_count": 9,
   "id": "ca74da88",
   "metadata": {},
   "outputs": [],
   "source": [
    "train, validate, test = np.split(df.sample(frac=1), [int(.6*len(df)), int(.8*len(df))])"
   ]
  },
  {
   "cell_type": "code",
   "execution_count": 10,
   "id": "51785b66",
   "metadata": {},
   "outputs": [
    {
     "name": "stdout",
     "output_type": "stream",
     "text": [
      "The length of train data is :  35401 \n",
      "The length of validate data is : 11800 \n",
      "The length of test data is :  11801\n"
     ]
    }
   ],
   "source": [
    "print(\"The length of train data is : \",len(train), \"\\nThe length of validate data is :\",len(validate),\"\\nThe length of test data is : \",len(test))"
   ]
  },
  {
   "cell_type": "code",
   "execution_count": 11,
   "id": "2987bee3",
   "metadata": {},
   "outputs": [
    {
     "data": {
      "text/html": [
       "<div>\n",
       "<style scoped>\n",
       "    .dataframe tbody tr th:only-of-type {\n",
       "        vertical-align: middle;\n",
       "    }\n",
       "\n",
       "    .dataframe tbody tr th {\n",
       "        vertical-align: top;\n",
       "    }\n",
       "\n",
       "    .dataframe thead th {\n",
       "        text-align: right;\n",
       "    }\n",
       "</style>\n",
       "<table border=\"1\" class=\"dataframe\">\n",
       "  <thead>\n",
       "    <tr style=\"text-align: right;\">\n",
       "      <th></th>\n",
       "      <th>Unnamed: 0</th>\n",
       "    </tr>\n",
       "  </thead>\n",
       "  <tbody>\n",
       "    <tr>\n",
       "      <th>count</th>\n",
       "      <td>35401.000000</td>\n",
       "    </tr>\n",
       "    <tr>\n",
       "      <th>mean</th>\n",
       "      <td>30094.207367</td>\n",
       "    </tr>\n",
       "    <tr>\n",
       "      <th>std</th>\n",
       "      <td>17373.403834</td>\n",
       "    </tr>\n",
       "    <tr>\n",
       "      <th>min</th>\n",
       "      <td>1.000000</td>\n",
       "    </tr>\n",
       "    <tr>\n",
       "      <th>25%</th>\n",
       "      <td>15090.000000</td>\n",
       "    </tr>\n",
       "    <tr>\n",
       "      <th>50%</th>\n",
       "      <td>30080.000000</td>\n",
       "    </tr>\n",
       "    <tr>\n",
       "      <th>75%</th>\n",
       "      <td>45172.000000</td>\n",
       "    </tr>\n",
       "    <tr>\n",
       "      <th>max</th>\n",
       "      <td>60114.000000</td>\n",
       "    </tr>\n",
       "  </tbody>\n",
       "</table>\n",
       "</div>"
      ],
      "text/plain": [
       "         Unnamed: 0\n",
       "count  35401.000000\n",
       "mean   30094.207367\n",
       "std    17373.403834\n",
       "min        1.000000\n",
       "25%    15090.000000\n",
       "50%    30080.000000\n",
       "75%    45172.000000\n",
       "max    60114.000000"
      ]
     },
     "execution_count": 11,
     "metadata": {},
     "output_type": "execute_result"
    }
   ],
   "source": [
    "train.describe()"
   ]
  },
  {
   "cell_type": "code",
   "execution_count": 12,
   "id": "11aca473",
   "metadata": {},
   "outputs": [
    {
     "data": {
      "text/plain": [
       "Responsibility    9304\n",
       "Requirement       8271\n",
       "SoftSkill         5629\n",
       "Experience        5356\n",
       "Skill             4094\n",
       "Education         2747\n",
       "Name: Type, dtype: int64"
      ]
     },
     "execution_count": 12,
     "metadata": {},
     "output_type": "execute_result"
    }
   ],
   "source": [
    "train['Type'].value_counts()"
   ]
  },
  {
   "cell_type": "code",
   "execution_count": 13,
   "id": "0117be80",
   "metadata": {},
   "outputs": [
    {
     "data": {
      "text/plain": [
       "Text(0, 0.5, 'Count')"
      ]
     },
     "execution_count": 13,
     "metadata": {},
     "output_type": "execute_result"
    },
    {
     "data": {
      "image/png": "[encoded data removed]",
      "text/plain": [
       "<Figure size 864x576 with 1 Axes>"
      ]
     },
     "metadata": {
      "needs_background": "light"
     },
     "output_type": "display_data"
    }
   ],
   "source": [
    "plt.figure(figsize=(12,8))\n",
    "count = train.Type.value_counts()\n",
    "sns.barplot(x=count.index, y=count)\n",
    "plt.xlabel('Category')\n",
    "plt.ylabel('Count')"
   ]
  },
  {
   "cell_type": "markdown",
   "id": "671c2868",
   "metadata": {},
   "source": [
    "Getting a list of stopwords from nltk library"
   ]
  },
  {
   "cell_type": "code",
   "execution_count": 14,
   "id": "9663e70c",
   "metadata": {},
   "outputs": [],
   "source": [
    "sw_nltk = stopwords.words('english')"
   ]
  },
  {
   "cell_type": "markdown",
   "id": "2db6d1a0",
   "metadata": {},
   "source": [
    "REF https://towardsdatascience.com/text-pre-processing-stop-words-removal-using-different-libraries-f20bac19929a"
   ]
  },
  {
   "cell_type": "markdown",
   "id": "6240dc64",
   "metadata": {},
   "source": [
    "Counting the number of times, each word has appeared throughout the dataset by creating a dictionary for frequency count of words in the dataset."
   ]
  },
  {
   "cell_type": "code",
   "execution_count": 15,
   "id": "89748713",
   "metadata": {},
   "outputs": [
    {
     "name": "stdout",
     "output_type": "stream",
     "text": [
      "2867\n"
     ]
    }
   ],
   "source": [
    "def word_counts(data_set) -> list:\n",
    "    words_in_tuple = dict()\n",
    "    text = data_set['New_Sentence']\n",
    "    text = text.to_string()\n",
    "    text = text.strip()\n",
    "    text = text.lower()\n",
    "    \n",
    "    #words = [word for word in text.split(' ') if word not in sw_nltk]\n",
    "    words = text.split(' ')\n",
    "    #print(len(words))\n",
    "    \n",
    "    for word in words:\n",
    "        if word == ' ' or word.isnumeric() == True:\n",
    "            continue\n",
    "        if word in words_in_tuple:\n",
    "              words_in_tuple[word] = words_in_tuple[word] + 1\n",
    "        else:\n",
    "              words_in_tuple[word] = 1  \n",
    "    for key in list(words_in_tuple.keys()):  ## creates a list of all keys\n",
    "      if words_in_tuple[key] < 5:\n",
    "        del words_in_tuple[key] \n",
    "       \n",
    "    return (words_in_tuple)\n",
    "vocab = word_counts(train)\n",
    "print(len(vocab))"
   ]
  },
  {
   "cell_type": "code",
   "execution_count": 16,
   "id": "3f0f2dfc",
   "metadata": {},
   "outputs": [
    {
     "name": "stdout",
     "output_type": "stream",
     "text": [
      "              Responsibility  Requirement  Skill  SoftSkill  Education  \\\n",
      "deliverables           103.0         27.0    0.0       16.0        0.0   \n",
      "other                  515.0        225.0  149.0       84.0      124.0   \n",
      "architecture           192.0        146.0   93.0       31.0       32.0   \n",
      "high                   239.0        229.0   69.0      229.0      109.0   \n",
      "applications           232.0        198.0  143.0       17.0       29.0   \n",
      "...                      ...          ...    ...        ...        ...   \n",
      "jaar                     0.0          0.0    0.0        0.0        0.0   \n",
      "heavy                    0.0          0.0    0.0        0.0        0.0   \n",
      "ado                      0.0          0.0    0.0        0.0        0.0   \n",
      "poste                    0.0          0.0    0.0        0.0        0.0   \n",
      "semi                     0.0          0.0    0.0        0.0        0.0   \n",
      "\n",
      "              Experience  \n",
      "deliverables         9.0  \n",
      "other              121.0  \n",
      "architecture       133.0  \n",
      "high                87.0  \n",
      "applications       216.0  \n",
      "...                  ...  \n",
      "jaar                 6.0  \n",
      "heavy                7.0  \n",
      "ado                  6.0  \n",
      "poste                6.0  \n",
      "semi                 6.0  \n",
      "\n",
      "[3909 rows x 6 columns]\n"
     ]
    }
   ],
   "source": [
    "#Conditional count of the words for every label \n",
    "# Refrenece blog : https://taherparatha.wordpress.com/portfolio/classifying-news-articles-using-naive-bayes-classifier-from-scratch/\n",
    "import re\n",
    "Types = df['Type'].unique()\n",
    "def conditional_count_values(dataset,label):  \n",
    "  word_count = {}\n",
    "  for typ in Types:\n",
    "    word_dict = {}\n",
    "    data = df[df[label] == typ]['New_Sentence']\n",
    "    for row in data:\n",
    "      words = list(set(re.split(\"[^a-zA-Z]\",str(row))))\n",
    "      for word in words:\n",
    "        word = word.lower()\n",
    "        if word in word_dict:\n",
    "          word_dict[word] = word_dict[word]+1\n",
    "        else:\n",
    "          word_dict[word] = 1\n",
    "    for word, count in dict(word_dict).items():\n",
    "      if (len(word)<3) or (count<=5):\n",
    "        word_dict.pop(word)\n",
    "    word_count[typ] = word_dict\n",
    "  \n",
    "  return pd.DataFrame(word_count).fillna(0)\n",
    "\n",
    "temp = conditional_count_values(train,\"Type\")\n",
    "print(temp)"
   ]
  },
  {
   "cell_type": "code",
   "execution_count": 17,
   "id": "091520d1",
   "metadata": {},
   "outputs": [],
   "source": [
    "#returns the probability of the word with total number of docs.\n",
    "def probability_of_word_in_all_documents(dataset,word_given,smoothing):\n",
    "  return((word_counts(dataset)[word_given] + smoothing )/(len(dataset) + (len(dataset['Type'].unique()) * smoothing)))"
   ]
  },
  {
   "cell_type": "code",
   "execution_count": 18,
   "id": "ae97882f",
   "metadata": {},
   "outputs": [],
   "source": [
    "#conditional probability value\n",
    "def conditional_probability(dataset,word,category,smoothing):\n",
    "  conditional_value_dataframe = conditional_count_values(train,'Type')\n",
    "  probability_value = (conditional_value_dataframe.loc[word,category])*smoothing / ((conditional_value_dataframe[category].sum()) + (smoothing * len(conditional_value_dataframe[category])))\n",
    "  return probability_value"
   ]
  },
  {
   "cell_type": "code",
   "execution_count": 19,
   "id": "49c3d351",
   "metadata": {},
   "outputs": [],
   "source": [
    "def count_probability_class(category_set):\n",
    "  result_probabilty = train.groupby('Type').size().div(len(train)) #count()['category']/len(category)\n",
    "  return(result_probabilty)"
   ]
  },
  {
   "cell_type": "code",
   "execution_count": 20,
   "id": "d5593ca0",
   "metadata": {},
   "outputs": [
    {
     "data": {
      "image/png": "[encoded data removed]",
      "text/plain": [
       "<Figure size 1008x576 with 1 Axes>"
      ]
     },
     "metadata": {
      "needs_background": "light"
     },
     "output_type": "display_data"
    }
   ],
   "source": [
    "result_probabilty = train.groupby('Type').size().div(len(train)) #count()['category']/len(category)\n",
    "plt.figure(figsize=(14,8))\n",
    "sns.barplot(x=result_probabilty.index, y=result_probabilty)\n",
    "plt.xlabel('Category')\n",
    "plt.ylabel('Probabilities')\n",
    "plt.show()"
   ]
  },
  {
   "cell_type": "code",
   "execution_count": 21,
   "id": "e96d4f4e",
   "metadata": {},
   "outputs": [],
   "source": [
    "def nb_probability(word,data,category,smoothing):\n",
    "  final_prob = conditional_probability(data,word,category,smoothing) * count_probability_class(train)\n",
    "  print(final_prob[category])\n",
    "  return final_prob[category]"
   ]
  },
  {
   "cell_type": "markdown",
   "id": "b3f49a25",
   "metadata": {},
   "source": [
    "# TRAINING THE DATASET."
   ]
  },
  {
   "cell_type": "code",
   "execution_count": 22,
   "id": "eb908b61",
   "metadata": {},
   "outputs": [
    {
     "data": {
      "text/html": [
       "<div>\n",
       "<style scoped>\n",
       "    .dataframe tbody tr th:only-of-type {\n",
       "        vertical-align: middle;\n",
       "    }\n",
       "\n",
       "    .dataframe tbody tr th {\n",
       "        vertical-align: top;\n",
       "    }\n",
       "\n",
       "    .dataframe thead th {\n",
       "        text-align: right;\n",
       "    }\n",
       "</style>\n",
       "<table border=\"1\" class=\"dataframe\">\n",
       "  <thead>\n",
       "    <tr style=\"text-align: right;\">\n",
       "      <th></th>\n",
       "      <th>Responsibility</th>\n",
       "      <th>Requirement</th>\n",
       "      <th>Skill</th>\n",
       "      <th>SoftSkill</th>\n",
       "      <th>Education</th>\n",
       "      <th>Experience</th>\n",
       "    </tr>\n",
       "  </thead>\n",
       "  <tbody>\n",
       "    <tr>\n",
       "      <th>deliverables</th>\n",
       "      <td>103.0</td>\n",
       "      <td>27.0</td>\n",
       "      <td>0.0</td>\n",
       "      <td>16.0</td>\n",
       "      <td>0.0</td>\n",
       "      <td>9.0</td>\n",
       "    </tr>\n",
       "    <tr>\n",
       "      <th>other</th>\n",
       "      <td>515.0</td>\n",
       "      <td>225.0</td>\n",
       "      <td>149.0</td>\n",
       "      <td>84.0</td>\n",
       "      <td>124.0</td>\n",
       "      <td>121.0</td>\n",
       "    </tr>\n",
       "    <tr>\n",
       "      <th>architecture</th>\n",
       "      <td>192.0</td>\n",
       "      <td>146.0</td>\n",
       "      <td>93.0</td>\n",
       "      <td>31.0</td>\n",
       "      <td>32.0</td>\n",
       "      <td>133.0</td>\n",
       "    </tr>\n",
       "    <tr>\n",
       "      <th>high</th>\n",
       "      <td>239.0</td>\n",
       "      <td>229.0</td>\n",
       "      <td>69.0</td>\n",
       "      <td>229.0</td>\n",
       "      <td>109.0</td>\n",
       "      <td>87.0</td>\n",
       "    </tr>\n",
       "    <tr>\n",
       "      <th>applications</th>\n",
       "      <td>232.0</td>\n",
       "      <td>198.0</td>\n",
       "      <td>143.0</td>\n",
       "      <td>17.0</td>\n",
       "      <td>29.0</td>\n",
       "      <td>216.0</td>\n",
       "    </tr>\n",
       "    <tr>\n",
       "      <th>...</th>\n",
       "      <td>...</td>\n",
       "      <td>...</td>\n",
       "      <td>...</td>\n",
       "      <td>...</td>\n",
       "      <td>...</td>\n",
       "      <td>...</td>\n",
       "    </tr>\n",
       "    <tr>\n",
       "      <th>jaar</th>\n",
       "      <td>0.0</td>\n",
       "      <td>0.0</td>\n",
       "      <td>0.0</td>\n",
       "      <td>0.0</td>\n",
       "      <td>0.0</td>\n",
       "      <td>6.0</td>\n",
       "    </tr>\n",
       "    <tr>\n",
       "      <th>heavy</th>\n",
       "      <td>0.0</td>\n",
       "      <td>0.0</td>\n",
       "      <td>0.0</td>\n",
       "      <td>0.0</td>\n",
       "      <td>0.0</td>\n",
       "      <td>7.0</td>\n",
       "    </tr>\n",
       "    <tr>\n",
       "      <th>ado</th>\n",
       "      <td>0.0</td>\n",
       "      <td>0.0</td>\n",
       "      <td>0.0</td>\n",
       "      <td>0.0</td>\n",
       "      <td>0.0</td>\n",
       "      <td>6.0</td>\n",
       "    </tr>\n",
       "    <tr>\n",
       "      <th>poste</th>\n",
       "      <td>0.0</td>\n",
       "      <td>0.0</td>\n",
       "      <td>0.0</td>\n",
       "      <td>0.0</td>\n",
       "      <td>0.0</td>\n",
       "      <td>6.0</td>\n",
       "    </tr>\n",
       "    <tr>\n",
       "      <th>semi</th>\n",
       "      <td>0.0</td>\n",
       "      <td>0.0</td>\n",
       "      <td>0.0</td>\n",
       "      <td>0.0</td>\n",
       "      <td>0.0</td>\n",
       "      <td>6.0</td>\n",
       "    </tr>\n",
       "  </tbody>\n",
       "</table>\n",
       "<p>3909 rows × 6 columns</p>\n",
       "</div>"
      ],
      "text/plain": [
       "              Responsibility  Requirement  Skill  SoftSkill  Education  \\\n",
       "deliverables           103.0         27.0    0.0       16.0        0.0   \n",
       "other                  515.0        225.0  149.0       84.0      124.0   \n",
       "architecture           192.0        146.0   93.0       31.0       32.0   \n",
       "high                   239.0        229.0   69.0      229.0      109.0   \n",
       "applications           232.0        198.0  143.0       17.0       29.0   \n",
       "...                      ...          ...    ...        ...        ...   \n",
       "jaar                     0.0          0.0    0.0        0.0        0.0   \n",
       "heavy                    0.0          0.0    0.0        0.0        0.0   \n",
       "ado                      0.0          0.0    0.0        0.0        0.0   \n",
       "poste                    0.0          0.0    0.0        0.0        0.0   \n",
       "semi                     0.0          0.0    0.0        0.0        0.0   \n",
       "\n",
       "              Experience  \n",
       "deliverables         9.0  \n",
       "other              121.0  \n",
       "architecture       133.0  \n",
       "high                87.0  \n",
       "applications       216.0  \n",
       "...                  ...  \n",
       "jaar                 6.0  \n",
       "heavy                7.0  \n",
       "ado                  6.0  \n",
       "poste                6.0  \n",
       "semi                 6.0  \n",
       "\n",
       "[3909 rows x 6 columns]"
      ]
     },
     "execution_count": 22,
     "metadata": {},
     "output_type": "execute_result"
    }
   ],
   "source": [
    "vocab_train = word_counts(train)\n",
    "cond_words_train = conditional_count_values(train,'Type')\n",
    "cond_words_train.dropna()"
   ]
  },
  {
   "cell_type": "markdown",
   "id": "fb4b5dfe",
   "metadata": {},
   "source": [
    "Finding the probability of the word “teams“."
   ]
  },
  {
   "cell_type": "code",
   "execution_count": 23,
   "id": "b863d2b9",
   "metadata": {},
   "outputs": [
    {
     "data": {
      "text/plain": [
       "0.005337927528454825"
      ]
     },
     "execution_count": 23,
     "metadata": {},
     "output_type": "execute_result"
    }
   ],
   "source": [
    "probability_of_word_in_all_documents(train,\"teams\",1)  "
   ]
  },
  {
   "cell_type": "markdown",
   "id": "f78ed759",
   "metadata": {},
   "source": [
    "Calculating the Naive Bayes probability of the word “teams” across every category\n",
    "\n"
   ]
  },
  {
   "cell_type": "code",
   "execution_count": 24,
   "id": "4e07b892",
   "metadata": {},
   "outputs": [
    {
     "name": "stdout",
     "output_type": "stream",
     "text": [
      "2.7294017732565873e-05\n",
      "2.7294017732565873e-05\n",
      "6.407608317412349e-05\n",
      "6.407608317412349e-05\n",
      "9.51044627671153e-05\n",
      "9.51044627671153e-05\n",
      "1.3352694495535953e-05\n",
      "1.3352694495535953e-05\n",
      "6.806541782670876e-05\n",
      "6.806541782670876e-05\n",
      "4.244909374550203e-06\n",
      "4.244909374550203e-06\n"
     ]
    }
   ],
   "source": [
    "class_train_probability = count_probability_class(train)\n",
    "for i in train['Type'].unique():\n",
    "  print(nb_probability(\"teams\",train,i,0.1))"
   ]
  },
  {
   "cell_type": "markdown",
   "id": "b282c93b",
   "metadata": {},
   "source": [
    "TESTING THE DATASET\n"
   ]
  },
  {
   "cell_type": "code",
   "execution_count": 25,
   "id": "4f161268",
   "metadata": {},
   "outputs": [
    {
     "data": {
      "text/html": [
       "<div>\n",
       "<style scoped>\n",
       "    .dataframe tbody tr th:only-of-type {\n",
       "        vertical-align: middle;\n",
       "    }\n",
       "\n",
       "    .dataframe tbody tr th {\n",
       "        vertical-align: top;\n",
       "    }\n",
       "\n",
       "    .dataframe thead th {\n",
       "        text-align: right;\n",
       "    }\n",
       "</style>\n",
       "<table border=\"1\" class=\"dataframe\">\n",
       "  <thead>\n",
       "    <tr style=\"text-align: right;\">\n",
       "      <th></th>\n",
       "      <th>Responsibility</th>\n",
       "      <th>Requirement</th>\n",
       "      <th>Skill</th>\n",
       "      <th>SoftSkill</th>\n",
       "      <th>Education</th>\n",
       "      <th>Experience</th>\n",
       "    </tr>\n",
       "  </thead>\n",
       "  <tbody>\n",
       "    <tr>\n",
       "      <th>deliverables</th>\n",
       "      <td>103.0</td>\n",
       "      <td>27.0</td>\n",
       "      <td>0.0</td>\n",
       "      <td>16.0</td>\n",
       "      <td>0.0</td>\n",
       "      <td>9.0</td>\n",
       "    </tr>\n",
       "    <tr>\n",
       "      <th>other</th>\n",
       "      <td>515.0</td>\n",
       "      <td>225.0</td>\n",
       "      <td>149.0</td>\n",
       "      <td>84.0</td>\n",
       "      <td>124.0</td>\n",
       "      <td>121.0</td>\n",
       "    </tr>\n",
       "    <tr>\n",
       "      <th>architecture</th>\n",
       "      <td>192.0</td>\n",
       "      <td>146.0</td>\n",
       "      <td>93.0</td>\n",
       "      <td>31.0</td>\n",
       "      <td>32.0</td>\n",
       "      <td>133.0</td>\n",
       "    </tr>\n",
       "    <tr>\n",
       "      <th>high</th>\n",
       "      <td>239.0</td>\n",
       "      <td>229.0</td>\n",
       "      <td>69.0</td>\n",
       "      <td>229.0</td>\n",
       "      <td>109.0</td>\n",
       "      <td>87.0</td>\n",
       "    </tr>\n",
       "    <tr>\n",
       "      <th>applications</th>\n",
       "      <td>232.0</td>\n",
       "      <td>198.0</td>\n",
       "      <td>143.0</td>\n",
       "      <td>17.0</td>\n",
       "      <td>29.0</td>\n",
       "      <td>216.0</td>\n",
       "    </tr>\n",
       "    <tr>\n",
       "      <th>...</th>\n",
       "      <td>...</td>\n",
       "      <td>...</td>\n",
       "      <td>...</td>\n",
       "      <td>...</td>\n",
       "      <td>...</td>\n",
       "      <td>...</td>\n",
       "    </tr>\n",
       "    <tr>\n",
       "      <th>jaar</th>\n",
       "      <td>0.0</td>\n",
       "      <td>0.0</td>\n",
       "      <td>0.0</td>\n",
       "      <td>0.0</td>\n",
       "      <td>0.0</td>\n",
       "      <td>6.0</td>\n",
       "    </tr>\n",
       "    <tr>\n",
       "      <th>heavy</th>\n",
       "      <td>0.0</td>\n",
       "      <td>0.0</td>\n",
       "      <td>0.0</td>\n",
       "      <td>0.0</td>\n",
       "      <td>0.0</td>\n",
       "      <td>7.0</td>\n",
       "    </tr>\n",
       "    <tr>\n",
       "      <th>ado</th>\n",
       "      <td>0.0</td>\n",
       "      <td>0.0</td>\n",
       "      <td>0.0</td>\n",
       "      <td>0.0</td>\n",
       "      <td>0.0</td>\n",
       "      <td>6.0</td>\n",
       "    </tr>\n",
       "    <tr>\n",
       "      <th>poste</th>\n",
       "      <td>0.0</td>\n",
       "      <td>0.0</td>\n",
       "      <td>0.0</td>\n",
       "      <td>0.0</td>\n",
       "      <td>0.0</td>\n",
       "      <td>6.0</td>\n",
       "    </tr>\n",
       "    <tr>\n",
       "      <th>semi</th>\n",
       "      <td>0.0</td>\n",
       "      <td>0.0</td>\n",
       "      <td>0.0</td>\n",
       "      <td>0.0</td>\n",
       "      <td>0.0</td>\n",
       "      <td>6.0</td>\n",
       "    </tr>\n",
       "  </tbody>\n",
       "</table>\n",
       "<p>3909 rows × 6 columns</p>\n",
       "</div>"
      ],
      "text/plain": [
       "              Responsibility  Requirement  Skill  SoftSkill  Education  \\\n",
       "deliverables           103.0         27.0    0.0       16.0        0.0   \n",
       "other                  515.0        225.0  149.0       84.0      124.0   \n",
       "architecture           192.0        146.0   93.0       31.0       32.0   \n",
       "high                   239.0        229.0   69.0      229.0      109.0   \n",
       "applications           232.0        198.0  143.0       17.0       29.0   \n",
       "...                      ...          ...    ...        ...        ...   \n",
       "jaar                     0.0          0.0    0.0        0.0        0.0   \n",
       "heavy                    0.0          0.0    0.0        0.0        0.0   \n",
       "ado                      0.0          0.0    0.0        0.0        0.0   \n",
       "poste                    0.0          0.0    0.0        0.0        0.0   \n",
       "semi                     0.0          0.0    0.0        0.0        0.0   \n",
       "\n",
       "              Experience  \n",
       "deliverables         9.0  \n",
       "other              121.0  \n",
       "architecture       133.0  \n",
       "high                87.0  \n",
       "applications       216.0  \n",
       "...                  ...  \n",
       "jaar                 6.0  \n",
       "heavy                7.0  \n",
       "ado                  6.0  \n",
       "poste                6.0  \n",
       "semi                 6.0  \n",
       "\n",
       "[3909 rows x 6 columns]"
      ]
     },
     "execution_count": 25,
     "metadata": {},
     "output_type": "execute_result"
    }
   ],
   "source": [
    "vocab_test = word_counts(test)\n",
    "cond_words_test = conditional_count_values(test,'Type')\n",
    "cond_words_test.dropna()"
   ]
  },
  {
   "cell_type": "code",
   "execution_count": 26,
   "id": "d400adfb",
   "metadata": {},
   "outputs": [
    {
     "data": {
      "text/plain": [
       "Type\n",
       "Education         0.077597\n",
       "Experience        0.151295\n",
       "Requirement       0.233637\n",
       "Responsibility    0.262817\n",
       "Skill             0.115646\n",
       "SoftSkill         0.159007\n",
       "dtype: float64"
      ]
     },
     "execution_count": 26,
     "metadata": {},
     "output_type": "execute_result"
    }
   ],
   "source": [
    "class_test_probability = count_probability_class(test)\n",
    "class_test_probability"
   ]
  },
  {
   "cell_type": "code",
   "execution_count": 27,
   "id": "0360e40d",
   "metadata": {},
   "outputs": [
    {
     "name": "stdout",
     "output_type": "stream",
     "text": [
      "9.51044627671153e-05\n",
      "9.51044627671153e-05\n",
      "6.407608317412349e-05\n",
      "6.407608317412349e-05\n",
      "6.806541782670876e-05\n",
      "6.806541782670876e-05\n",
      "1.3352694495535953e-05\n",
      "1.3352694495535953e-05\n",
      "2.7294017732565873e-05\n",
      "2.7294017732565873e-05\n",
      "4.244909374550203e-06\n",
      "4.244909374550203e-06\n"
     ]
    }
   ],
   "source": [
    "for i in test['Type'].unique():\n",
    "  print(nb_probability(\"teams\",test,i,0.1))"
   ]
  }
 ],
 "metadata": {
  "kernelspec": {
   "display_name": "Python 3 (ipykernel)",
   "language": "python",
   "name": "python3"
  },
  "language_info": {
   "codemirror_mode": {
    "name": "ipython",
    "version": 3
   },
   "file_extension": ".py",
   "mimetype": "text/x-python",
   "name": "python",
   "nbconvert_exporter": "python",
   "pygments_lexer": "ipython3",
   "version": "3.9.12"
  }
 },
 "nbformat": 4,
 "nbformat_minor": 5
}
